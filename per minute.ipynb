{
 "cells": [
  {
   "cell_type": "markdown",
   "id": "789de682",
   "metadata": {},
   "source": [
    "### import pandas as pd\n",
    "import numpy as np\n",
    "import matplotlib.pyplot as plt\n",
    "import seaborn as sns\n",
    "import plotly.express as px"
   ]
  },
  {
   "cell_type": "code",
   "execution_count": 1,
   "id": "02a97b5e",
   "metadata": {},
   "outputs": [],
   "source": [
    "import numpy as np\n",
    "import matplotlib.pyplot as plt\n",
    "import seaborn as sns\n",
    "import plotly.express as px\n",
    "import pandas as pd"
   ]
  },
  {
   "cell_type": "code",
   "execution_count": 2,
   "id": "31562ddc",
   "metadata": {},
   "outputs": [],
   "source": [
    "\n",
    "df = pd.read_csv(\"DHM.csv\")"
   ]
  },
  {
   "cell_type": "code",
   "execution_count": 3,
   "id": "8999b1e9",
   "metadata": {},
   "outputs": [
    {
     "data": {
      "text/html": [
       "<div>\n",
       "<style scoped>\n",
       "    .dataframe tbody tr th:only-of-type {\n",
       "        vertical-align: middle;\n",
       "    }\n",
       "\n",
       "    .dataframe tbody tr th {\n",
       "        vertical-align: top;\n",
       "    }\n",
       "\n",
       "    .dataframe thead th {\n",
       "        text-align: right;\n",
       "    }\n",
       "</style>\n",
       "<table border=\"1\" class=\"dataframe\">\n",
       "  <thead>\n",
       "    <tr style=\"text-align: right;\">\n",
       "      <th></th>\n",
       "      <th>Source.Name.1</th>\n",
       "      <th>Start time</th>\n",
       "      <th>End time</th>\n",
       "      <th>Move Minutes count</th>\n",
       "      <th>Calories (kcal)</th>\n",
       "      <th>Distance (m)</th>\n",
       "      <th>Heart Points</th>\n",
       "      <th>Heart Minutes</th>\n",
       "      <th>Average speed (m/s)</th>\n",
       "      <th>Max speed (m/s)</th>\n",
       "      <th>Min speed (m/s)</th>\n",
       "      <th>Step count</th>\n",
       "      <th>Walking duration (ms)</th>\n",
       "    </tr>\n",
       "  </thead>\n",
       "  <tbody>\n",
       "    <tr>\n",
       "      <th>0</th>\n",
       "      <td>04-06-2021</td>\n",
       "      <td>00:00:00</td>\n",
       "      <td>00:15:00</td>\n",
       "      <td>NaN</td>\n",
       "      <td>NaN</td>\n",
       "      <td>NaN</td>\n",
       "      <td>NaN</td>\n",
       "      <td>NaN</td>\n",
       "      <td>NaN</td>\n",
       "      <td>NaN</td>\n",
       "      <td>NaN</td>\n",
       "      <td>NaN</td>\n",
       "      <td>NaN</td>\n",
       "    </tr>\n",
       "    <tr>\n",
       "      <th>1</th>\n",
       "      <td>04-06-2021</td>\n",
       "      <td>00:15:00</td>\n",
       "      <td>00:30:00</td>\n",
       "      <td>NaN</td>\n",
       "      <td>NaN</td>\n",
       "      <td>NaN</td>\n",
       "      <td>NaN</td>\n",
       "      <td>NaN</td>\n",
       "      <td>NaN</td>\n",
       "      <td>NaN</td>\n",
       "      <td>NaN</td>\n",
       "      <td>NaN</td>\n",
       "      <td>NaN</td>\n",
       "    </tr>\n",
       "    <tr>\n",
       "      <th>2</th>\n",
       "      <td>04-06-2021</td>\n",
       "      <td>00:30:00</td>\n",
       "      <td>00:45:00</td>\n",
       "      <td>NaN</td>\n",
       "      <td>NaN</td>\n",
       "      <td>NaN</td>\n",
       "      <td>NaN</td>\n",
       "      <td>NaN</td>\n",
       "      <td>NaN</td>\n",
       "      <td>NaN</td>\n",
       "      <td>NaN</td>\n",
       "      <td>NaN</td>\n",
       "      <td>NaN</td>\n",
       "    </tr>\n",
       "    <tr>\n",
       "      <th>3</th>\n",
       "      <td>04-06-2021</td>\n",
       "      <td>00:45:00</td>\n",
       "      <td>01:00:00</td>\n",
       "      <td>NaN</td>\n",
       "      <td>NaN</td>\n",
       "      <td>NaN</td>\n",
       "      <td>NaN</td>\n",
       "      <td>NaN</td>\n",
       "      <td>NaN</td>\n",
       "      <td>NaN</td>\n",
       "      <td>NaN</td>\n",
       "      <td>NaN</td>\n",
       "      <td>NaN</td>\n",
       "    </tr>\n",
       "    <tr>\n",
       "      <th>4</th>\n",
       "      <td>04-06-2021</td>\n",
       "      <td>01:00:00</td>\n",
       "      <td>01:15:00</td>\n",
       "      <td>NaN</td>\n",
       "      <td>NaN</td>\n",
       "      <td>NaN</td>\n",
       "      <td>NaN</td>\n",
       "      <td>NaN</td>\n",
       "      <td>NaN</td>\n",
       "      <td>NaN</td>\n",
       "      <td>NaN</td>\n",
       "      <td>NaN</td>\n",
       "      <td>NaN</td>\n",
       "    </tr>\n",
       "    <tr>\n",
       "      <th>...</th>\n",
       "      <td>...</td>\n",
       "      <td>...</td>\n",
       "      <td>...</td>\n",
       "      <td>...</td>\n",
       "      <td>...</td>\n",
       "      <td>...</td>\n",
       "      <td>...</td>\n",
       "      <td>...</td>\n",
       "      <td>...</td>\n",
       "      <td>...</td>\n",
       "      <td>...</td>\n",
       "      <td>...</td>\n",
       "      <td>...</td>\n",
       "    </tr>\n",
       "    <tr>\n",
       "      <th>38203</th>\n",
       "      <td>01-10-2022</td>\n",
       "      <td>22:45:00</td>\n",
       "      <td>23:00:00</td>\n",
       "      <td>NaN</td>\n",
       "      <td>NaN</td>\n",
       "      <td>NaN</td>\n",
       "      <td>NaN</td>\n",
       "      <td>NaN</td>\n",
       "      <td>NaN</td>\n",
       "      <td>NaN</td>\n",
       "      <td>NaN</td>\n",
       "      <td>NaN</td>\n",
       "      <td>NaN</td>\n",
       "    </tr>\n",
       "    <tr>\n",
       "      <th>38204</th>\n",
       "      <td>01-10-2022</td>\n",
       "      <td>23:00:00</td>\n",
       "      <td>23:15:00</td>\n",
       "      <td>NaN</td>\n",
       "      <td>NaN</td>\n",
       "      <td>NaN</td>\n",
       "      <td>NaN</td>\n",
       "      <td>NaN</td>\n",
       "      <td>NaN</td>\n",
       "      <td>NaN</td>\n",
       "      <td>NaN</td>\n",
       "      <td>NaN</td>\n",
       "      <td>NaN</td>\n",
       "    </tr>\n",
       "    <tr>\n",
       "      <th>38205</th>\n",
       "      <td>01-10-2022</td>\n",
       "      <td>23:15:00</td>\n",
       "      <td>23:30:00</td>\n",
       "      <td>NaN</td>\n",
       "      <td>NaN</td>\n",
       "      <td>NaN</td>\n",
       "      <td>NaN</td>\n",
       "      <td>NaN</td>\n",
       "      <td>NaN</td>\n",
       "      <td>NaN</td>\n",
       "      <td>NaN</td>\n",
       "      <td>NaN</td>\n",
       "      <td>NaN</td>\n",
       "    </tr>\n",
       "    <tr>\n",
       "      <th>38206</th>\n",
       "      <td>01-10-2022</td>\n",
       "      <td>23:30:00</td>\n",
       "      <td>23:45:00</td>\n",
       "      <td>NaN</td>\n",
       "      <td>NaN</td>\n",
       "      <td>NaN</td>\n",
       "      <td>NaN</td>\n",
       "      <td>NaN</td>\n",
       "      <td>NaN</td>\n",
       "      <td>NaN</td>\n",
       "      <td>NaN</td>\n",
       "      <td>NaN</td>\n",
       "      <td>NaN</td>\n",
       "    </tr>\n",
       "    <tr>\n",
       "      <th>38207</th>\n",
       "      <td>01-10-2022</td>\n",
       "      <td>23:45:00</td>\n",
       "      <td>00:00:00</td>\n",
       "      <td>NaN</td>\n",
       "      <td>NaN</td>\n",
       "      <td>NaN</td>\n",
       "      <td>NaN</td>\n",
       "      <td>NaN</td>\n",
       "      <td>NaN</td>\n",
       "      <td>NaN</td>\n",
       "      <td>NaN</td>\n",
       "      <td>NaN</td>\n",
       "      <td>NaN</td>\n",
       "    </tr>\n",
       "  </tbody>\n",
       "</table>\n",
       "<p>38208 rows × 13 columns</p>\n",
       "</div>"
      ],
      "text/plain": [
       "      Source.Name.1 Start time  End time  Move Minutes count  Calories (kcal)  \\\n",
       "0        04-06-2021   00:00:00  00:15:00                 NaN              NaN   \n",
       "1        04-06-2021   00:15:00  00:30:00                 NaN              NaN   \n",
       "2        04-06-2021   00:30:00  00:45:00                 NaN              NaN   \n",
       "3        04-06-2021   00:45:00  01:00:00                 NaN              NaN   \n",
       "4        04-06-2021   01:00:00  01:15:00                 NaN              NaN   \n",
       "...             ...        ...       ...                 ...              ...   \n",
       "38203    01-10-2022   22:45:00  23:00:00                 NaN              NaN   \n",
       "38204    01-10-2022   23:00:00  23:15:00                 NaN              NaN   \n",
       "38205    01-10-2022   23:15:00  23:30:00                 NaN              NaN   \n",
       "38206    01-10-2022   23:30:00  23:45:00                 NaN              NaN   \n",
       "38207    01-10-2022   23:45:00  00:00:00                 NaN              NaN   \n",
       "\n",
       "       Distance (m)  Heart Points  Heart Minutes  Average speed (m/s)  \\\n",
       "0               NaN           NaN            NaN                  NaN   \n",
       "1               NaN           NaN            NaN                  NaN   \n",
       "2               NaN           NaN            NaN                  NaN   \n",
       "3               NaN           NaN            NaN                  NaN   \n",
       "4               NaN           NaN            NaN                  NaN   \n",
       "...             ...           ...            ...                  ...   \n",
       "38203           NaN           NaN            NaN                  NaN   \n",
       "38204           NaN           NaN            NaN                  NaN   \n",
       "38205           NaN           NaN            NaN                  NaN   \n",
       "38206           NaN           NaN            NaN                  NaN   \n",
       "38207           NaN           NaN            NaN                  NaN   \n",
       "\n",
       "       Max speed (m/s)  Min speed (m/s)  Step count  Walking duration (ms)  \n",
       "0                  NaN              NaN         NaN                    NaN  \n",
       "1                  NaN              NaN         NaN                    NaN  \n",
       "2                  NaN              NaN         NaN                    NaN  \n",
       "3                  NaN              NaN         NaN                    NaN  \n",
       "4                  NaN              NaN         NaN                    NaN  \n",
       "...                ...              ...         ...                    ...  \n",
       "38203              NaN              NaN         NaN                    NaN  \n",
       "38204              NaN              NaN         NaN                    NaN  \n",
       "38205              NaN              NaN         NaN                    NaN  \n",
       "38206              NaN              NaN         NaN                    NaN  \n",
       "38207              NaN              NaN         NaN                    NaN  \n",
       "\n",
       "[38208 rows x 13 columns]"
      ]
     },
     "execution_count": 3,
     "metadata": {},
     "output_type": "execute_result"
    }
   ],
   "source": [
    "df"
   ]
  },
  {
   "cell_type": "code",
   "execution_count": 4,
   "id": "dc2f09bb",
   "metadata": {},
   "outputs": [
    {
     "data": {
      "text/plain": [
       "(38208, 13)"
      ]
     },
     "execution_count": 4,
     "metadata": {},
     "output_type": "execute_result"
    }
   ],
   "source": [
    "df.shape"
   ]
  },
  {
   "cell_type": "code",
   "execution_count": 5,
   "id": "a5363e4e",
   "metadata": {},
   "outputs": [
    {
     "name": "stderr",
     "output_type": "stream",
     "text": [
      "<ipython-input-5-c2acd85252c8>:1: FutureWarning: In a future version of pandas all arguments of DataFrame.dropna will be keyword-only.\n",
      "  df = df.dropna(0)\n"
     ]
    }
   ],
   "source": [
    "df = df.dropna(0)"
   ]
  },
  {
   "cell_type": "code",
   "execution_count": 6,
   "id": "d1ee3eb1",
   "metadata": {},
   "outputs": [
    {
     "data": {
      "text/plain": [
       "(2594, 13)"
      ]
     },
     "execution_count": 6,
     "metadata": {},
     "output_type": "execute_result"
    }
   ],
   "source": [
    "df.shape"
   ]
  },
  {
   "cell_type": "code",
   "execution_count": 7,
   "id": "634a7d8a",
   "metadata": {},
   "outputs": [
    {
     "data": {
      "text/plain": [
       "Source.Name.1            0\n",
       "Start time               0\n",
       "End time                 0\n",
       "Move Minutes count       0\n",
       "Calories (kcal)          0\n",
       "Distance (m)             0\n",
       "Heart Points             0\n",
       "Heart Minutes            0\n",
       "Average speed (m/s)      0\n",
       "Max speed (m/s)          0\n",
       "Min speed (m/s)          0\n",
       "Step count               0\n",
       "Walking duration (ms)    0\n",
       "dtype: int64"
      ]
     },
     "execution_count": 7,
     "metadata": {},
     "output_type": "execute_result"
    }
   ],
   "source": [
    "df.isna().sum()"
   ]
  },
  {
   "cell_type": "code",
   "execution_count": 8,
   "id": "5c1d02d7",
   "metadata": {},
   "outputs": [
    {
     "data": {
      "text/plain": [
       "(2594, 13)"
      ]
     },
     "execution_count": 8,
     "metadata": {},
     "output_type": "execute_result"
    }
   ],
   "source": [
    "df.shape"
   ]
  },
  {
   "cell_type": "code",
   "execution_count": 9,
   "id": "ea2bd99d",
   "metadata": {
    "scrolled": true
   },
   "outputs": [
    {
     "data": {
      "text/plain": [
       "Source.Name.1             object\n",
       "Start time                object\n",
       "End time                  object\n",
       "Move Minutes count       float64\n",
       "Calories (kcal)          float64\n",
       "Distance (m)             float64\n",
       "Heart Points             float64\n",
       "Heart Minutes            float64\n",
       "Average speed (m/s)      float64\n",
       "Max speed (m/s)          float64\n",
       "Min speed (m/s)          float64\n",
       "Step count               float64\n",
       "Walking duration (ms)    float64\n",
       "dtype: object"
      ]
     },
     "execution_count": 9,
     "metadata": {},
     "output_type": "execute_result"
    }
   ],
   "source": [
    "df.dtypes"
   ]
  },
  {
   "cell_type": "code",
   "execution_count": 10,
   "id": "c2c5cb13",
   "metadata": {},
   "outputs": [
    {
     "name": "stderr",
     "output_type": "stream",
     "text": [
      "<ipython-input-10-b139b1c47e57>:1: UserWarning: Parsing dates in DD/MM/YYYY format when dayfirst=False (the default) was specified. This may lead to inconsistently parsed dates! Specify a format to ensure consistent parsing.\n",
      "  df['Date']= pd.to_datetime(df[\"Source.Name.1\"])\n",
      "<ipython-input-10-b139b1c47e57>:1: SettingWithCopyWarning: \n",
      "A value is trying to be set on a copy of a slice from a DataFrame.\n",
      "Try using .loc[row_indexer,col_indexer] = value instead\n",
      "\n",
      "See the caveats in the documentation: https://pandas.pydata.org/pandas-docs/stable/user_guide/indexing.html#returning-a-view-versus-a-copy\n",
      "  df['Date']= pd.to_datetime(df[\"Source.Name.1\"])\n"
     ]
    }
   ],
   "source": [
    "df['Date']= pd.to_datetime(df[\"Source.Name.1\"])"
   ]
  },
  {
   "cell_type": "code",
   "execution_count": 11,
   "id": "5ef67236",
   "metadata": {},
   "outputs": [],
   "source": [
    "df = df.drop([\"Source.Name.1\"],axis=True)"
   ]
  },
  {
   "cell_type": "code",
   "execution_count": 12,
   "id": "92e8ae06",
   "metadata": {},
   "outputs": [
    {
     "data": {
      "text/plain": [
       "<AxesSubplot: >"
      ]
     },
     "execution_count": 12,
     "metadata": {},
     "output_type": "execute_result"
    },
    {
     "data": {
      "image/png": "[encoded data removed]",
      "text/plain": [
       "<Figure size 432x288 with 1 Axes>"
      ]
     },
     "metadata": {
      "needs_background": "light"
     },
     "output_type": "display_data"
    }
   ],
   "source": [
    "df[\"Move Minutes count\"].value_counts().plot(kind=\"bar\")"
   ]
  },
  {
   "cell_type": "code",
   "execution_count": 13,
   "id": "e54e9df9",
   "metadata": {},
   "outputs": [
    {
     "data": {
      "text/plain": [
       "Start time                       object\n",
       "End time                         object\n",
       "Move Minutes count              float64\n",
       "Calories (kcal)                 float64\n",
       "Distance (m)                    float64\n",
       "Heart Points                    float64\n",
       "Heart Minutes                   float64\n",
       "Average speed (m/s)             float64\n",
       "Max speed (m/s)                 float64\n",
       "Min speed (m/s)                 float64\n",
       "Step count                      float64\n",
       "Walking duration (ms)           float64\n",
       "Date                     datetime64[ns]\n",
       "dtype: object"
      ]
     },
     "execution_count": 13,
     "metadata": {},
     "output_type": "execute_result"
    }
   ],
   "source": [
    "df.dtypes"
   ]
  },
  {
   "cell_type": "code",
   "execution_count": null,
   "id": "619eac09",
   "metadata": {},
   "outputs": [],
   "source": []
  },
  {
   "cell_type": "code",
   "execution_count": 14,
   "id": "8e4e20d5",
   "metadata": {},
   "outputs": [],
   "source": [
    "df_1 = df[df[\"Move Minutes count\"]==1.0]\n",
    "df_2 = df[df[\"Move Minutes count\"]==2.0]\n",
    "df_3 = df[df[\"Move Minutes count\"]==3.0]\n",
    "df_4 = df[df[\"Move Minutes count\"]==4.0]\n",
    "df_5 = df[df[\"Move Minutes count\"]==5.0]\n",
    "df_6 = df[df[\"Move Minutes count\"]==6.0]\n",
    "df_7 = df[df[\"Move Minutes count\"]==7.0]\n",
    "df_8 = df[df[\"Move Minutes count\"]==8.0]\n",
    "df_9 = df[df[\"Move Minutes count\"]==9.0]\n",
    "df_10 = df[df[\"Move Minutes count\"]==10.0]\n",
    "df_11= df[df[\"Move Minutes count\"]==11.0]\n",
    "df_12= df[df[\"Move Minutes count\"]==12.0]\n",
    "df_13 = df[df[\"Move Minutes count\"]==13.0]\n",
    "df_14= df[df[\"Move Minutes count\"]==14.0]\n",
    "df_15 = df[df[\"Move Minutes count\"]==15.0]"
   ]
  },
  {
   "cell_type": "code",
   "execution_count": 15,
   "id": "4bfbfb2d",
   "metadata": {},
   "outputs": [
    {
     "data": {
      "text/plain": [
       "<AxesSubplot: xlabel='Step count', ylabel='Calories (kcal)'>"
      ]
     },
     "execution_count": 15,
     "metadata": {},
     "output_type": "execute_result"
    },
    {
     "data": {
      "image/png": "[encoded data removed]",
      "text/plain": [
       "<Figure size 432x288 with 1 Axes>"
      ]
     },
     "metadata": {
      "needs_background": "light"
     },
     "output_type": "display_data"
    }
   ],
   "source": [
    "sns.pointplot(x=\"Step count\",y=\"Calories (kcal)\",data=df_1)"
   ]
  },
  {
   "cell_type": "code",
   "execution_count": 16,
   "id": "19d12a22",
   "metadata": {},
   "outputs": [
    {
     "name": "stdout",
     "output_type": "stream",
     "text": [
      "142.36363636363637\n",
      "204.72222222222223\n",
      "271.7375\n",
      "353.0\n",
      "420.5398773006135\n",
      "493.96022727272725\n",
      "575.4615384615385\n",
      "658.0151515151515\n",
      "752.2953020134228\n",
      "839.3207547169811\n",
      "907.5405405405405\n",
      "1022.8181818181819\n",
      "1128.5686274509803\n",
      "1272.5151515151515\n",
      "1537.2005689900427\n"
     ]
    }
   ],
   "source": [
    "print(df_1[\"Step count\"].mean())\n",
    "print(df_2[\"Step count\"].mean())\n",
    "print(df_3[\"Step count\"].mean())\n",
    "print(df_4[\"Step count\"].mean())\n",
    "print(df_5[\"Step count\"].mean())\n",
    "print(df_6[\"Step count\"].mean())\n",
    "print(df_7[\"Step count\"].mean())\n",
    "print(df_8[\"Step count\"].mean())\n",
    "print(df_9[\"Step count\"].mean())\n",
    "print(df_10[\"Step count\"].mean())\n",
    "print(df_11[\"Step count\"].mean())\n",
    "print(df_12[\"Step count\"].mean())\n",
    "print(df_13[\"Step count\"].mean())\n",
    "print(df_14[\"Step count\"].mean())\n",
    "print(df_15[\"Step count\"].mean())"
   ]
  },
  {
   "cell_type": "code",
   "execution_count": 17,
   "id": "c4998d44",
   "metadata": {},
   "outputs": [
    {
     "name": "stdout",
     "output_type": "stream",
     "text": [
      "12.813153698454544\n",
      "12.185349636851852\n",
      "15.993921458325001\n",
      "20.571777639166662\n",
      "22.44659228047239\n",
      "26.69920056481818\n",
      "30.844108117820515\n",
      "34.25029043125252\n",
      "37.72747341481208\n",
      "42.94724978880504\n",
      "47.11432078589865\n",
      "53.366106354295454\n",
      "56.82775503998039\n",
      "63.62009980313333\n",
      "77.05699957227597\n"
     ]
    }
   ],
   "source": [
    "print(df_1[\"Calories (kcal)\"].mean())\n",
    "print(df_2[\"Calories (kcal)\"].mean())\n",
    "print(df_3[\"Calories (kcal)\"].mean())\n",
    "print(df_4[\"Calories (kcal)\"].mean())\n",
    "print(df_5[\"Calories (kcal)\"].mean())\n",
    "print(df_6[\"Calories (kcal)\"].mean())\n",
    "print(df_7[\"Calories (kcal)\"].mean())\n",
    "print(df_8[\"Calories (kcal)\"].mean())\n",
    "print(df_9[\"Calories (kcal)\"].mean())\n",
    "print(df_10[\"Calories (kcal)\"].mean())\n",
    "print(df_11[\"Calories (kcal)\"].mean())\n",
    "print(df_12[\"Calories (kcal)\"].mean())\n",
    "print(df_13[\"Calories (kcal)\"].mean())\n",
    "print(df_14[\"Calories (kcal)\"].mean())\n",
    "print(df_15[\"Calories (kcal)\"].mean())"
   ]
  },
  {
   "cell_type": "code",
   "execution_count": 18,
   "id": "ed12b6d9",
   "metadata": {},
   "outputs": [
    {
     "data": {
      "text/html": [
       "<div>\n",
       "<style scoped>\n",
       "    .dataframe tbody tr th:only-of-type {\n",
       "        vertical-align: middle;\n",
       "    }\n",
       "\n",
       "    .dataframe tbody tr th {\n",
       "        vertical-align: top;\n",
       "    }\n",
       "\n",
       "    .dataframe thead th {\n",
       "        text-align: right;\n",
       "    }\n",
       "</style>\n",
       "<table border=\"1\" class=\"dataframe\">\n",
       "  <thead>\n",
       "    <tr style=\"text-align: right;\">\n",
       "      <th></th>\n",
       "      <th>Move Minutes count</th>\n",
       "      <th>Calories (kcal)</th>\n",
       "      <th>Distance (m)</th>\n",
       "      <th>Heart Points</th>\n",
       "      <th>Heart Minutes</th>\n",
       "      <th>Average speed (m/s)</th>\n",
       "      <th>Max speed (m/s)</th>\n",
       "      <th>Min speed (m/s)</th>\n",
       "      <th>Step count</th>\n",
       "      <th>Walking duration (ms)</th>\n",
       "    </tr>\n",
       "  </thead>\n",
       "  <tbody>\n",
       "    <tr>\n",
       "      <th>count</th>\n",
       "      <td>703.0</td>\n",
       "      <td>703.000000</td>\n",
       "      <td>703.000000</td>\n",
       "      <td>703.000000</td>\n",
       "      <td>703.000000</td>\n",
       "      <td>703.000000</td>\n",
       "      <td>703.000000</td>\n",
       "      <td>703.000000</td>\n",
       "      <td>703.000000</td>\n",
       "      <td>703.000000</td>\n",
       "    </tr>\n",
       "    <tr>\n",
       "      <th>mean</th>\n",
       "      <td>15.0</td>\n",
       "      <td>77.057000</td>\n",
       "      <td>1131.246262</td>\n",
       "      <td>10.378378</td>\n",
       "      <td>8.900427</td>\n",
       "      <td>1.288686</td>\n",
       "      <td>2.073599</td>\n",
       "      <td>0.627794</td>\n",
       "      <td>1537.200569</td>\n",
       "      <td>807182.432432</td>\n",
       "    </tr>\n",
       "    <tr>\n",
       "      <th>std</th>\n",
       "      <td>0.0</td>\n",
       "      <td>28.750095</td>\n",
       "      <td>376.304941</td>\n",
       "      <td>6.777429</td>\n",
       "      <td>4.805480</td>\n",
       "      <td>0.409902</td>\n",
       "      <td>0.900019</td>\n",
       "      <td>0.316352</td>\n",
       "      <td>288.263207</td>\n",
       "      <td>192793.000345</td>\n",
       "    </tr>\n",
       "    <tr>\n",
       "      <th>min</th>\n",
       "      <td>15.0</td>\n",
       "      <td>11.820245</td>\n",
       "      <td>343.421868</td>\n",
       "      <td>1.000000</td>\n",
       "      <td>1.000000</td>\n",
       "      <td>0.676735</td>\n",
       "      <td>1.127304</td>\n",
       "      <td>0.242491</td>\n",
       "      <td>520.000000</td>\n",
       "      <td>10257.000000</td>\n",
       "    </tr>\n",
       "    <tr>\n",
       "      <th>25%</th>\n",
       "      <td>15.0</td>\n",
       "      <td>69.349992</td>\n",
       "      <td>915.644162</td>\n",
       "      <td>5.000000</td>\n",
       "      <td>4.000000</td>\n",
       "      <td>1.043086</td>\n",
       "      <td>1.389897</td>\n",
       "      <td>0.368965</td>\n",
       "      <td>1352.500000</td>\n",
       "      <td>821102.500000</td>\n",
       "    </tr>\n",
       "    <tr>\n",
       "      <th>50%</th>\n",
       "      <td>15.0</td>\n",
       "      <td>69.349996</td>\n",
       "      <td>1059.475575</td>\n",
       "      <td>11.000000</td>\n",
       "      <td>10.000000</td>\n",
       "      <td>1.216939</td>\n",
       "      <td>1.736676</td>\n",
       "      <td>0.567199</td>\n",
       "      <td>1514.000000</td>\n",
       "      <td>900000.000000</td>\n",
       "    </tr>\n",
       "    <tr>\n",
       "      <th>75%</th>\n",
       "      <td>15.0</td>\n",
       "      <td>69.350000</td>\n",
       "      <td>1194.633778</td>\n",
       "      <td>14.000000</td>\n",
       "      <td>13.000000</td>\n",
       "      <td>1.350195</td>\n",
       "      <td>2.645729</td>\n",
       "      <td>0.791236</td>\n",
       "      <td>1659.500000</td>\n",
       "      <td>900000.000000</td>\n",
       "    </tr>\n",
       "    <tr>\n",
       "      <th>max</th>\n",
       "      <td>15.0</td>\n",
       "      <td>217.038795</td>\n",
       "      <td>2776.886363</td>\n",
       "      <td>30.000000</td>\n",
       "      <td>15.000000</td>\n",
       "      <td>3.105911</td>\n",
       "      <td>6.446354</td>\n",
       "      <td>2.440020</td>\n",
       "      <td>2598.000000</td>\n",
       "      <td>900000.000000</td>\n",
       "    </tr>\n",
       "  </tbody>\n",
       "</table>\n",
       "</div>"
      ],
      "text/plain": [
       "       Move Minutes count  Calories (kcal)  Distance (m)  Heart Points  \\\n",
       "count               703.0       703.000000    703.000000    703.000000   \n",
       "mean                 15.0        77.057000   1131.246262     10.378378   \n",
       "std                   0.0        28.750095    376.304941      6.777429   \n",
       "min                  15.0        11.820245    343.421868      1.000000   \n",
       "25%                  15.0        69.349992    915.644162      5.000000   \n",
       "50%                  15.0        69.349996   1059.475575     11.000000   \n",
       "75%                  15.0        69.350000   1194.633778     14.000000   \n",
       "max                  15.0       217.038795   2776.886363     30.000000   \n",
       "\n",
       "       Heart Minutes  Average speed (m/s)  Max speed (m/s)  Min speed (m/s)  \\\n",
       "count     703.000000           703.000000       703.000000       703.000000   \n",
       "mean        8.900427             1.288686         2.073599         0.627794   \n",
       "std         4.805480             0.409902         0.900019         0.316352   \n",
       "min         1.000000             0.676735         1.127304         0.242491   \n",
       "25%         4.000000             1.043086         1.389897         0.368965   \n",
       "50%        10.000000             1.216939         1.736676         0.567199   \n",
       "75%        13.000000             1.350195         2.645729         0.791236   \n",
       "max        15.000000             3.105911         6.446354         2.440020   \n",
       "\n",
       "        Step count  Walking duration (ms)  \n",
       "count   703.000000             703.000000  \n",
       "mean   1537.200569          807182.432432  \n",
       "std     288.263207          192793.000345  \n",
       "min     520.000000           10257.000000  \n",
       "25%    1352.500000          821102.500000  \n",
       "50%    1514.000000          900000.000000  \n",
       "75%    1659.500000          900000.000000  \n",
       "max    2598.000000          900000.000000  "
      ]
     },
     "execution_count": 18,
     "metadata": {},
     "output_type": "execute_result"
    }
   ],
   "source": [
    "df_15.describe()"
   ]
  },
  {
   "cell_type": "code",
   "execution_count": 19,
   "id": "65c046b4",
   "metadata": {},
   "outputs": [
    {
     "data": {
      "text/html": [
       "<div>\n",
       "<style scoped>\n",
       "    .dataframe tbody tr th:only-of-type {\n",
       "        vertical-align: middle;\n",
       "    }\n",
       "\n",
       "    .dataframe tbody tr th {\n",
       "        vertical-align: top;\n",
       "    }\n",
       "\n",
       "    .dataframe thead th {\n",
       "        text-align: right;\n",
       "    }\n",
       "</style>\n",
       "<table border=\"1\" class=\"dataframe\">\n",
       "  <thead>\n",
       "    <tr style=\"text-align: right;\">\n",
       "      <th></th>\n",
       "      <th>Move Minutes count</th>\n",
       "      <th>Calories (kcal)</th>\n",
       "      <th>Distance (m)</th>\n",
       "      <th>Heart Points</th>\n",
       "      <th>Heart Minutes</th>\n",
       "      <th>Average speed (m/s)</th>\n",
       "      <th>Max speed (m/s)</th>\n",
       "      <th>Min speed (m/s)</th>\n",
       "      <th>Step count</th>\n",
       "      <th>Walking duration (ms)</th>\n",
       "    </tr>\n",
       "  </thead>\n",
       "  <tbody>\n",
       "    <tr>\n",
       "      <th>count</th>\n",
       "      <td>165.0</td>\n",
       "      <td>165.000000</td>\n",
       "      <td>165.000000</td>\n",
       "      <td>165.000000</td>\n",
       "      <td>165.000000</td>\n",
       "      <td>165.000000</td>\n",
       "      <td>165.000000</td>\n",
       "      <td>165.000000</td>\n",
       "      <td>165.000000</td>\n",
       "      <td>165.000000</td>\n",
       "    </tr>\n",
       "    <tr>\n",
       "      <th>mean</th>\n",
       "      <td>14.0</td>\n",
       "      <td>63.620100</td>\n",
       "      <td>894.414911</td>\n",
       "      <td>6.842424</td>\n",
       "      <td>6.060606</td>\n",
       "      <td>1.130744</td>\n",
       "      <td>2.147647</td>\n",
       "      <td>0.405139</td>\n",
       "      <td>1272.515152</td>\n",
       "      <td>766168.612121</td>\n",
       "    </tr>\n",
       "    <tr>\n",
       "      <th>std</th>\n",
       "      <td>0.0</td>\n",
       "      <td>19.663172</td>\n",
       "      <td>252.658276</td>\n",
       "      <td>4.642003</td>\n",
       "      <td>3.522916</td>\n",
       "      <td>0.293172</td>\n",
       "      <td>0.918071</td>\n",
       "      <td>0.176291</td>\n",
       "      <td>230.738570</td>\n",
       "      <td>174417.263742</td>\n",
       "    </tr>\n",
       "    <tr>\n",
       "      <th>min</th>\n",
       "      <td>14.0</td>\n",
       "      <td>8.421555</td>\n",
       "      <td>456.720428</td>\n",
       "      <td>1.000000</td>\n",
       "      <td>1.000000</td>\n",
       "      <td>0.639480</td>\n",
       "      <td>1.136444</td>\n",
       "      <td>0.242971</td>\n",
       "      <td>718.000000</td>\n",
       "      <td>27694.000000</td>\n",
       "    </tr>\n",
       "    <tr>\n",
       "      <th>25%</th>\n",
       "      <td>14.0</td>\n",
       "      <td>57.925576</td>\n",
       "      <td>755.080653</td>\n",
       "      <td>3.000000</td>\n",
       "      <td>3.000000</td>\n",
       "      <td>0.939099</td>\n",
       "      <td>1.384883</td>\n",
       "      <td>0.313823</td>\n",
       "      <td>1130.000000</td>\n",
       "      <td>721557.000000</td>\n",
       "    </tr>\n",
       "    <tr>\n",
       "      <th>50%</th>\n",
       "      <td>14.0</td>\n",
       "      <td>65.005758</td>\n",
       "      <td>865.385898</td>\n",
       "      <td>6.000000</td>\n",
       "      <td>6.000000</td>\n",
       "      <td>1.085150</td>\n",
       "      <td>1.818364</td>\n",
       "      <td>0.317045</td>\n",
       "      <td>1280.000000</td>\n",
       "      <td>825621.000000</td>\n",
       "    </tr>\n",
       "    <tr>\n",
       "      <th>75%</th>\n",
       "      <td>14.0</td>\n",
       "      <td>69.349994</td>\n",
       "      <td>995.066662</td>\n",
       "      <td>10.000000</td>\n",
       "      <td>8.000000</td>\n",
       "      <td>1.255545</td>\n",
       "      <td>2.700721</td>\n",
       "      <td>0.455390</td>\n",
       "      <td>1406.000000</td>\n",
       "      <td>900000.000000</td>\n",
       "    </tr>\n",
       "    <tr>\n",
       "      <th>max</th>\n",
       "      <td>14.0</td>\n",
       "      <td>201.527111</td>\n",
       "      <td>2520.031721</td>\n",
       "      <td>25.000000</td>\n",
       "      <td>14.000000</td>\n",
       "      <td>2.912747</td>\n",
       "      <td>4.993110</td>\n",
       "      <td>1.574437</td>\n",
       "      <td>2301.000000</td>\n",
       "      <td>900000.000000</td>\n",
       "    </tr>\n",
       "  </tbody>\n",
       "</table>\n",
       "</div>"
      ],
      "text/plain": [
       "       Move Minutes count  Calories (kcal)  Distance (m)  Heart Points  \\\n",
       "count               165.0       165.000000    165.000000    165.000000   \n",
       "mean                 14.0        63.620100    894.414911      6.842424   \n",
       "std                   0.0        19.663172    252.658276      4.642003   \n",
       "min                  14.0         8.421555    456.720428      1.000000   \n",
       "25%                  14.0        57.925576    755.080653      3.000000   \n",
       "50%                  14.0        65.005758    865.385898      6.000000   \n",
       "75%                  14.0        69.349994    995.066662     10.000000   \n",
       "max                  14.0       201.527111   2520.031721     25.000000   \n",
       "\n",
       "       Heart Minutes  Average speed (m/s)  Max speed (m/s)  Min speed (m/s)  \\\n",
       "count     165.000000           165.000000       165.000000       165.000000   \n",
       "mean        6.060606             1.130744         2.147647         0.405139   \n",
       "std         3.522916             0.293172         0.918071         0.176291   \n",
       "min         1.000000             0.639480         1.136444         0.242971   \n",
       "25%         3.000000             0.939099         1.384883         0.313823   \n",
       "50%         6.000000             1.085150         1.818364         0.317045   \n",
       "75%         8.000000             1.255545         2.700721         0.455390   \n",
       "max        14.000000             2.912747         4.993110         1.574437   \n",
       "\n",
       "        Step count  Walking duration (ms)  \n",
       "count   165.000000             165.000000  \n",
       "mean   1272.515152          766168.612121  \n",
       "std     230.738570          174417.263742  \n",
       "min     718.000000           27694.000000  \n",
       "25%    1130.000000          721557.000000  \n",
       "50%    1280.000000          825621.000000  \n",
       "75%    1406.000000          900000.000000  \n",
       "max    2301.000000          900000.000000  "
      ]
     },
     "execution_count": 19,
     "metadata": {},
     "output_type": "execute_result"
    }
   ],
   "source": [
    "df_14.describe()"
   ]
  },
  {
   "cell_type": "code",
   "execution_count": 20,
   "id": "994216c4",
   "metadata": {},
   "outputs": [
    {
     "name": "stdout",
     "output_type": "stream",
     "text": [
      "226.0\n",
      "281.0\n",
      "407.0\n",
      "508.0\n",
      "799.0\n",
      "708.0\n",
      "774.0\n",
      "993.0\n",
      "999.0\n",
      "1341.0\n",
      "1612.0\n",
      "1763.0\n",
      "1798.0\n",
      "2301.0\n",
      "2598.0\n"
     ]
    }
   ],
   "source": [
    "print(df_1[\"Step count\"].max())\n",
    "print(df_2[\"Step count\"].max())\n",
    "print(df_3[\"Step count\"].max())\n",
    "print(df_4[\"Step count\"].max())\n",
    "print(df_5[\"Step count\"].max())\n",
    "print(df_6[\"Step count\"].max())\n",
    "print(df_7[\"Step count\"].max())\n",
    "print(df_8[\"Step count\"].max())\n",
    "print(df_9[\"Step count\"].max())\n",
    "print(df_10[\"Step count\"].max())\n",
    "print(df_11[\"Step count\"].max())\n",
    "print(df_12[\"Step count\"].max())\n",
    "print(df_13[\"Step count\"].max())\n",
    "print(df_14[\"Step count\"].max())\n",
    "print(df_15[\"Step count\"].max())"
   ]
  },
  {
   "cell_type": "code",
   "execution_count": 21,
   "id": "e66fc038",
   "metadata": {},
   "outputs": [
    {
     "name": "stdout",
     "output_type": "stream",
     "text": [
      "42.18953413\n",
      "39.77081458\n",
      "43.41348171\n",
      "66.39267819\n",
      "60.32077787\n",
      "67.15421911\n",
      "69.35000271\n",
      "66.25753065\n",
      "69.34999285\n",
      "77.36730801\n",
      "143.9759516\n",
      "122.045707\n",
      "132.7508987\n",
      "201.5271111\n",
      "217.0387948\n"
     ]
    }
   ],
   "source": [
    "print(df_1[\"Calories (kcal)\"].max())\n",
    "print(df_2[\"Calories (kcal)\"].max())\n",
    "print(df_3[\"Calories (kcal)\"].max())\n",
    "print(df_4[\"Calories (kcal)\"].max())\n",
    "print(df_5[\"Calories (kcal)\"].max())\n",
    "print(df_6[\"Calories (kcal)\"].max())\n",
    "print(df_7[\"Calories (kcal)\"].max())\n",
    "print(df_8[\"Calories (kcal)\"].max())\n",
    "print(df_9[\"Calories (kcal)\"].max())\n",
    "print(df_10[\"Calories (kcal)\"].max())\n",
    "print(df_11[\"Calories (kcal)\"].max())\n",
    "print(df_12[\"Calories (kcal)\"].max())\n",
    "print(df_13[\"Calories (kcal)\"].max())\n",
    "print(df_14[\"Calories (kcal)\"].max())\n",
    "print(df_15[\"Calories (kcal)\"].max())"
   ]
  },
  {
   "cell_type": "code",
   "execution_count": 22,
   "id": "c2ba758e",
   "metadata": {},
   "outputs": [
    {
     "name": "stdout",
     "output_type": "stream",
     "text": [
      "107.0\n",
      "152.0\n",
      "178.0\n",
      "224.0\n",
      "287.0\n",
      "250.0\n",
      "354.0\n",
      "395.0\n",
      "446.0\n",
      "552.0\n",
      "534.0\n",
      "714.0\n",
      "694.0\n",
      "718.0\n",
      "520.0\n"
     ]
    }
   ],
   "source": [
    "print(df_1[\"Step count\"].min())\n",
    "print(df_2[\"Step count\"].min())\n",
    "print(df_3[\"Step count\"].min())\n",
    "print(df_4[\"Step count\"].min())\n",
    "print(df_5[\"Step count\"].min())\n",
    "print(df_6[\"Step count\"].min())\n",
    "print(df_7[\"Step count\"].min())\n",
    "print(df_8[\"Step count\"].min())\n",
    "print(df_9[\"Step count\"].min())\n",
    "print(df_10[\"Step count\"].min())\n",
    "print(df_11[\"Step count\"].min())\n",
    "print(df_12[\"Step count\"].min())\n",
    "print(df_13[\"Step count\"].min())\n",
    "print(df_14[\"Step count\"].min())\n",
    "print(df_15[\"Step count\"].min())"
   ]
  },
  {
   "cell_type": "code",
   "execution_count": 23,
   "id": "a74b15f0",
   "metadata": {},
   "outputs": [
    {
     "data": {
      "text/html": [
       "<div>\n",
       "<style scoped>\n",
       "    .dataframe tbody tr th:only-of-type {\n",
       "        vertical-align: middle;\n",
       "    }\n",
       "\n",
       "    .dataframe tbody tr th {\n",
       "        vertical-align: top;\n",
       "    }\n",
       "\n",
       "    .dataframe thead th {\n",
       "        text-align: right;\n",
       "    }\n",
       "</style>\n",
       "<table border=\"1\" class=\"dataframe\">\n",
       "  <thead>\n",
       "    <tr style=\"text-align: right;\">\n",
       "      <th></th>\n",
       "      <th>Move Minutes count</th>\n",
       "      <th>Calories (kcal)</th>\n",
       "      <th>Distance (m)</th>\n",
       "      <th>Heart Points</th>\n",
       "      <th>Heart Minutes</th>\n",
       "      <th>Average speed (m/s)</th>\n",
       "      <th>Max speed (m/s)</th>\n",
       "      <th>Min speed (m/s)</th>\n",
       "      <th>Step count</th>\n",
       "      <th>Walking duration (ms)</th>\n",
       "    </tr>\n",
       "  </thead>\n",
       "  <tbody>\n",
       "    <tr>\n",
       "      <th>count</th>\n",
       "      <td>11.0</td>\n",
       "      <td>11.000000</td>\n",
       "      <td>11.000000</td>\n",
       "      <td>11.000000</td>\n",
       "      <td>11.0</td>\n",
       "      <td>11.000000</td>\n",
       "      <td>11.000000</td>\n",
       "      <td>11.000000</td>\n",
       "      <td>11.000000</td>\n",
       "      <td>11.000000</td>\n",
       "    </tr>\n",
       "    <tr>\n",
       "      <th>mean</th>\n",
       "      <td>1.0</td>\n",
       "      <td>12.813154</td>\n",
       "      <td>98.453975</td>\n",
       "      <td>1.090909</td>\n",
       "      <td>1.0</td>\n",
       "      <td>1.462662</td>\n",
       "      <td>1.877819</td>\n",
       "      <td>1.187189</td>\n",
       "      <td>142.363636</td>\n",
       "      <td>166284.545455</td>\n",
       "    </tr>\n",
       "    <tr>\n",
       "      <th>std</th>\n",
       "      <td>0.0</td>\n",
       "      <td>11.395871</td>\n",
       "      <td>18.712862</td>\n",
       "      <td>0.301511</td>\n",
       "      <td>0.0</td>\n",
       "      <td>0.880526</td>\n",
       "      <td>0.728498</td>\n",
       "      <td>1.047885</td>\n",
       "      <td>34.276151</td>\n",
       "      <td>147891.672082</td>\n",
       "    </tr>\n",
       "    <tr>\n",
       "      <th>min</th>\n",
       "      <td>1.0</td>\n",
       "      <td>5.358702</td>\n",
       "      <td>72.783412</td>\n",
       "      <td>1.000000</td>\n",
       "      <td>1.0</td>\n",
       "      <td>0.464029</td>\n",
       "      <td>1.157596</td>\n",
       "      <td>0.303362</td>\n",
       "      <td>107.000000</td>\n",
       "      <td>69543.000000</td>\n",
       "    </tr>\n",
       "    <tr>\n",
       "      <th>25%</th>\n",
       "      <td>1.0</td>\n",
       "      <td>5.676374</td>\n",
       "      <td>85.390907</td>\n",
       "      <td>1.000000</td>\n",
       "      <td>1.0</td>\n",
       "      <td>1.161453</td>\n",
       "      <td>1.335888</td>\n",
       "      <td>0.376929</td>\n",
       "      <td>123.000000</td>\n",
       "      <td>73666.000000</td>\n",
       "    </tr>\n",
       "    <tr>\n",
       "      <th>50%</th>\n",
       "      <td>1.0</td>\n",
       "      <td>7.013905</td>\n",
       "      <td>93.825480</td>\n",
       "      <td>1.000000</td>\n",
       "      <td>1.0</td>\n",
       "      <td>1.212052</td>\n",
       "      <td>1.803861</td>\n",
       "      <td>1.054877</td>\n",
       "      <td>130.000000</td>\n",
       "      <td>91024.000000</td>\n",
       "    </tr>\n",
       "    <tr>\n",
       "      <th>75%</th>\n",
       "      <td>1.0</td>\n",
       "      <td>14.185427</td>\n",
       "      <td>109.093941</td>\n",
       "      <td>1.000000</td>\n",
       "      <td>1.0</td>\n",
       "      <td>1.376380</td>\n",
       "      <td>2.094262</td>\n",
       "      <td>1.337364</td>\n",
       "      <td>154.500000</td>\n",
       "      <td>184093.500000</td>\n",
       "    </tr>\n",
       "    <tr>\n",
       "      <th>max</th>\n",
       "      <td>1.0</td>\n",
       "      <td>42.189534</td>\n",
       "      <td>136.606794</td>\n",
       "      <td>2.000000</td>\n",
       "      <td>1.0</td>\n",
       "      <td>3.581228</td>\n",
       "      <td>3.581228</td>\n",
       "      <td>3.581228</td>\n",
       "      <td>226.000000</td>\n",
       "      <td>547521.000000</td>\n",
       "    </tr>\n",
       "  </tbody>\n",
       "</table>\n",
       "</div>"
      ],
      "text/plain": [
       "       Move Minutes count  Calories (kcal)  Distance (m)  Heart Points  \\\n",
       "count                11.0        11.000000     11.000000     11.000000   \n",
       "mean                  1.0        12.813154     98.453975      1.090909   \n",
       "std                   0.0        11.395871     18.712862      0.301511   \n",
       "min                   1.0         5.358702     72.783412      1.000000   \n",
       "25%                   1.0         5.676374     85.390907      1.000000   \n",
       "50%                   1.0         7.013905     93.825480      1.000000   \n",
       "75%                   1.0        14.185427    109.093941      1.000000   \n",
       "max                   1.0        42.189534    136.606794      2.000000   \n",
       "\n",
       "       Heart Minutes  Average speed (m/s)  Max speed (m/s)  Min speed (m/s)  \\\n",
       "count           11.0            11.000000        11.000000        11.000000   \n",
       "mean             1.0             1.462662         1.877819         1.187189   \n",
       "std              0.0             0.880526         0.728498         1.047885   \n",
       "min              1.0             0.464029         1.157596         0.303362   \n",
       "25%              1.0             1.161453         1.335888         0.376929   \n",
       "50%              1.0             1.212052         1.803861         1.054877   \n",
       "75%              1.0             1.376380         2.094262         1.337364   \n",
       "max              1.0             3.581228         3.581228         3.581228   \n",
       "\n",
       "       Step count  Walking duration (ms)  \n",
       "count   11.000000              11.000000  \n",
       "mean   142.363636          166284.545455  \n",
       "std     34.276151          147891.672082  \n",
       "min    107.000000           69543.000000  \n",
       "25%    123.000000           73666.000000  \n",
       "50%    130.000000           91024.000000  \n",
       "75%    154.500000          184093.500000  \n",
       "max    226.000000          547521.000000  "
      ]
     },
     "execution_count": 23,
     "metadata": {},
     "output_type": "execute_result"
    }
   ],
   "source": [
    "df_1.describe()"
   ]
  },
  {
   "cell_type": "code",
   "execution_count": 24,
   "id": "e1dd4ec8",
   "metadata": {},
   "outputs": [],
   "source": [
    "from sklearn.linear_model import LinearRegression\n",
    "from sklearn.metrics import mean_squared_error\n",
    "from sklearn.metrics import mean_absolute_error\n",
    "from sklearn.metrics import r2_score\n",
    "from sklearn.preprocessing import PolynomialFeatures \n",
    "from sklearn.model_selection import train_test_split"
   ]
  },
  {
   "cell_type": "code",
   "execution_count": 25,
   "id": "23bfebf1",
   "metadata": {},
   "outputs": [
    {
     "name": "stdout",
     "output_type": "stream",
     "text": [
      "mean_squared_error: 31.351603214901527\n",
      "mean_absolute_error 3.485686124346884\n",
      "r2_score 0.9623443204763307\n"
     ]
    }
   ],
   "source": [
    "X = df[[\"Step count\",\"Move Minutes count\"]]\n",
    "y = df[\"Calories (kcal)\"]\n",
    "\n",
    "X_train,X_test,y_train,y_test = train_test_split(X,y,test_size=0.2,random_state=43)\n",
    "from sklearn.tree import DecisionTreeRegressor\n",
    "D = DecisionTreeRegressor(max_depth=8)\n",
    "D.fit(X_test,y_test)\n",
    "D_pred = D.predict(X_test)\n",
    "import numpy\n",
    "from sklearn.metrics import mean_squared_error\n",
    "print('mean_squared_error:',mean_squared_error(y_test,D_pred))\n",
    "from sklearn.metrics import mean_absolute_error\n",
    "print(\"mean_absolute_error\",mean_absolute_error(y_test,D_pred))\n",
    "from sklearn.metrics import r2_score\n",
    "print(\"r2_score\",r2_score(y_test,D_pred))\n"
   ]
  },
  {
   "cell_type": "code",
   "execution_count": 26,
   "id": "10880e19",
   "metadata": {},
   "outputs": [
    {
     "name": "stdout",
     "output_type": "stream",
     "text": [
      "mean_squared_error: 0.0\n",
      "mean_absolute_error 0.0\n",
      "r2_score 1.0\n"
     ]
    }
   ],
   "source": [
    "X = df_1[[\"Step count\",\"Move Minutes count\"]]\n",
    "y = df_1[\"Calories (kcal)\"]\n",
    "\n",
    "X_train,X_test,y_train,y_test = train_test_split(X,y,test_size=0.2,random_state=43)\n",
    "from sklearn.tree import DecisionTreeRegressor\n",
    "D = DecisionTreeRegressor(max_depth=8)\n",
    "D.fit(X_test,y_test)\n",
    "D_pred = D.predict(X_test)\n",
    "import numpy\n",
    "from sklearn.metrics import mean_squared_error\n",
    "print('mean_squared_error:',mean_squared_error(y_test,D_pred))\n",
    "from sklearn.metrics import mean_absolute_error\n",
    "print(\"mean_absolute_error\",mean_absolute_error(y_test,D_pred))\n",
    "from sklearn.metrics import r2_score\n",
    "print(\"r2_score\",r2_score(y_test,D_pred))\n"
   ]
  },
  {
   "cell_type": "code",
   "execution_count": 27,
   "id": "5132d23a",
   "metadata": {},
   "outputs": [
    {
     "name": "stdout",
     "output_type": "stream",
     "text": [
      "mean_squared_error: 0.0\n",
      "mean_absolute_error 0.0\n",
      "r2_score 1.0\n"
     ]
    }
   ],
   "source": [
    "X = df_2[[\"Step count\",\"Move Minutes count\"]]\n",
    "y = df_2[\"Calories (kcal)\"]\n",
    "\n",
    "X_train,X_test,y_train,y_test = train_test_split(X,y,test_size=0.2,random_state=43)\n",
    "from sklearn.tree import DecisionTreeRegressor\n",
    "D = DecisionTreeRegressor(max_depth=8)\n",
    "D.fit(X_test,y_test)\n",
    "D_pred = D.predict(X_test)\n",
    "import numpy\n",
    "from sklearn.metrics import mean_squared_error\n",
    "print('mean_squared_error:',mean_squared_error(y_test,D_pred))\n",
    "from sklearn.metrics import mean_absolute_error\n",
    "print(\"mean_absolute_error\",mean_absolute_error(y_test,D_pred))\n",
    "from sklearn.metrics import r2_score\n",
    "print(\"r2_score\",r2_score(y_test,D_pred))\n"
   ]
  },
  {
   "cell_type": "code",
   "execution_count": 28,
   "id": "67fdef72",
   "metadata": {},
   "outputs": [
    {
     "name": "stdout",
     "output_type": "stream",
     "text": [
      "mean_squared_error: 0.6206251476113571\n",
      "mean_absolute_error 0.27852853256250004\n",
      "r2_score 0.9473305571519255\n"
     ]
    }
   ],
   "source": [
    "X = df_3[[\"Step count\",\"Move Minutes count\"]]\n",
    "y = df_3[\"Calories (kcal)\"]\n",
    "\n",
    "X_train,X_test,y_train,y_test = train_test_split(X,y,test_size=0.2,random_state=43)\n",
    "from sklearn.tree import DecisionTreeRegressor\n",
    "D = DecisionTreeRegressor(max_depth=8)\n",
    "D.fit(X_test,y_test)\n",
    "D_pred = D.predict(X_test)\n",
    "import numpy\n",
    "from sklearn.metrics import mean_squared_error\n",
    "print('mean_squared_error:',mean_squared_error(y_test,D_pred))\n",
    "from sklearn.metrics import mean_absolute_error\n",
    "print(\"mean_absolute_error\",mean_absolute_error(y_test,D_pred))\n",
    "from sklearn.metrics import r2_score\n",
    "print(\"r2_score\",r2_score(y_test,D_pred))"
   ]
  },
  {
   "cell_type": "code",
   "execution_count": 29,
   "id": "9e78c471",
   "metadata": {},
   "outputs": [
    {
     "name": "stdout",
     "output_type": "stream",
     "text": [
      "mean_squared_error: 20.353432667311743\n",
      "mean_absolute_error 1.3602617618181818\n",
      "r2_score 0.6087954172542569\n"
     ]
    }
   ],
   "source": [
    "X = df_4[[\"Step count\",\"Move Minutes count\"]]\n",
    "y = df_4[\"Calories (kcal)\"]\n",
    "\n",
    "X_train,X_test,y_train,y_test = train_test_split(X,y,test_size=0.2,random_state=43)\n",
    "from sklearn.tree import DecisionTreeRegressor\n",
    "D = DecisionTreeRegressor(max_depth=8)\n",
    "D.fit(X_test,y_test)\n",
    "D_pred = D.predict(X_test)\n",
    "import numpy\n",
    "from sklearn.metrics import mean_squared_error\n",
    "print('mean_squared_error:',mean_squared_error(y_test,D_pred))\n",
    "from sklearn.metrics import mean_absolute_error\n",
    "print(\"mean_absolute_error\",mean_absolute_error(y_test,D_pred))\n",
    "from sklearn.metrics import r2_score\n",
    "print(\"r2_score\",r2_score(y_test,D_pred))"
   ]
  },
  {
   "cell_type": "code",
   "execution_count": 30,
   "id": "0b7b7931",
   "metadata": {},
   "outputs": [
    {
     "name": "stdout",
     "output_type": "stream",
     "text": [
      "mean_squared_error: 1.5901076927162237\n",
      "mean_absolute_error 0.4420944390909093\n",
      "r2_score 0.974610934769528\n"
     ]
    }
   ],
   "source": [
    "X = df_5[[\"Step count\",\"Move Minutes count\"]]\n",
    "y = df_5[\"Calories (kcal)\"]\n",
    "\n",
    "\n",
    "X_train,X_test,y_train,y_test = train_test_split(X,y,test_size=0.2,random_state=43)\n",
    "from sklearn.tree import DecisionTreeRegressor\n",
    "D = DecisionTreeRegressor(max_depth=8)\n",
    "D.fit(X_test,y_test)\n",
    "D_pred = D.predict(X_test)\n",
    "import numpy\n",
    "from sklearn.metrics import mean_squared_error\n",
    "print('mean_squared_error:',mean_squared_error(y_test,D_pred))\n",
    "from sklearn.metrics import mean_absolute_error\n",
    "print(\"mean_absolute_error\",mean_absolute_error(y_test,D_pred))\n",
    "from sklearn.metrics import r2_score\n",
    "print(\"r2_score\",r2_score(y_test,D_pred))"
   ]
  },
  {
   "cell_type": "code",
   "execution_count": 31,
   "id": "e9bd6fa4",
   "metadata": {},
   "outputs": [
    {
     "name": "stdout",
     "output_type": "stream",
     "text": [
      "mean_squared_error: 1.6942406068248617\n",
      "mean_absolute_error 0.6697553616352204\n",
      "r2_score 0.969746679248273\n"
     ]
    }
   ],
   "source": [
    "X = df_6[[\"Step count\",\"Move Minutes count\"]]\n",
    "y = df_6[\"Calories (kcal)\"]\n",
    "\n",
    "X_train,X_test,y_train,y_test = train_test_split(X,y,test_size=0.3,random_state=43)\n",
    "from sklearn.tree import DecisionTreeRegressor\n",
    "D = DecisionTreeRegressor(max_depth=8)\n",
    "D.fit(X_test,y_test)\n",
    "D_pred = D.predict(X_test)\n",
    "import numpy\n",
    "from sklearn.metrics import mean_squared_error\n",
    "print('mean_squared_error:',mean_squared_error(y_test,D_pred))\n",
    "from sklearn.metrics import mean_absolute_error\n",
    "print(\"mean_absolute_error\",mean_absolute_error(y_test,D_pred))\n",
    "from sklearn.metrics import r2_score\n",
    "print(\"r2_score\",r2_score(y_test,D_pred))"
   ]
  },
  {
   "cell_type": "code",
   "execution_count": 32,
   "id": "f78e26e0",
   "metadata": {},
   "outputs": [
    {
     "name": "stdout",
     "output_type": "stream",
     "text": [
      "mean_squared_error: 2.692892301617568\n",
      "mean_absolute_error 0.8500742471794871\n",
      "r2_score 0.9705543546405379\n"
     ]
    }
   ],
   "source": [
    "X = df_7[[\"Step count\",\"Move Minutes count\"]]\n",
    "y = df_7[\"Calories (kcal)\"]\n",
    "\n",
    "X_train,X_test,y_train,y_test = train_test_split(X,y,test_size=0.2,random_state=43)\n",
    "from sklearn.tree import DecisionTreeRegressor\n",
    "D = DecisionTreeRegressor(max_depth=8)\n",
    "D.fit(X_test,y_test)\n",
    "D_pred = D.predict(X_test)\n",
    "import numpy\n",
    "from sklearn.metrics import mean_squared_error\n",
    "print('mean_squared_error:',mean_squared_error(y_test,D_pred))\n",
    "from sklearn.metrics import mean_absolute_error\n",
    "print(\"mean_absolute_error\",mean_absolute_error(y_test,D_pred))\n",
    "from sklearn.metrics import r2_score\n",
    "print(\"r2_score\",r2_score(y_test,D_pred))"
   ]
  },
  {
   "cell_type": "code",
   "execution_count": 33,
   "id": "8977999c",
   "metadata": {},
   "outputs": [
    {
     "name": "stdout",
     "output_type": "stream",
     "text": [
      "mean_squared_error: 10.02183583586741\n",
      "mean_absolute_error 1.8880791183703702\n",
      "r2_score 0.9191221772806464\n"
     ]
    }
   ],
   "source": [
    "X = df_8[[\"Step count\",\"Move Minutes count\"]]\n",
    "y = df_8[\"Calories (kcal)\"]\n",
    "\n",
    "X_train,X_test,y_train,y_test = train_test_split(X,y,test_size=0.3,random_state=43)\n",
    "from sklearn.tree import DecisionTreeRegressor\n",
    "D = DecisionTreeRegressor(max_depth=8)\n",
    "D.fit(X_test,y_test)\n",
    "D_pred = D.predict(X_test)\n",
    "import numpy\n",
    "from sklearn.metrics import mean_squared_error\n",
    "print('mean_squared_error:',mean_squared_error(y_test,D_pred))\n",
    "from sklearn.metrics import mean_absolute_error\n",
    "print(\"mean_absolute_error\",mean_absolute_error(y_test,D_pred))\n",
    "from sklearn.metrics import r2_score\n",
    "print(\"r2_score\",r2_score(y_test,D_pred))"
   ]
  },
  {
   "cell_type": "code",
   "execution_count": 34,
   "id": "b7cecf63",
   "metadata": {},
   "outputs": [
    {
     "name": "stdout",
     "output_type": "stream",
     "text": [
      "mean_squared_error: 0.017484493768016664\n",
      "mean_absolute_error 0.034141366666666666\n",
      "r2_score 0.999853849064931\n"
     ]
    }
   ],
   "source": [
    "X = df_9[[\"Step count\",\"Move Minutes count\"]]\n",
    "y = df_9[\"Calories (kcal)\"]\n",
    "\n",
    "X_train,X_test,y_train,y_test = train_test_split(X,y,test_size=0.2,random_state=43)\n",
    "from sklearn.tree import DecisionTreeRegressor\n",
    "D = DecisionTreeRegressor(max_depth=8)\n",
    "D.fit(X_test,y_test)\n",
    "D_pred = D.predict(X_test)\n",
    "import numpy\n",
    "from sklearn.metrics import mean_squared_error\n",
    "print('mean_squared_error:',mean_squared_error(y_test,D_pred))\n",
    "from sklearn.metrics import mean_absolute_error\n",
    "print(\"mean_absolute_error\",mean_absolute_error(y_test,D_pred))\n",
    "from sklearn.metrics import r2_score\n",
    "print(\"r2_score\",r2_score(y_test,D_pred))"
   ]
  },
  {
   "cell_type": "code",
   "execution_count": 35,
   "id": "c0bc87b2",
   "metadata": {},
   "outputs": [
    {
     "name": "stdout",
     "output_type": "stream",
     "text": [
      "mean_squared_error: 1.2510237738483272\n",
      "mean_absolute_error 0.5112056860416665\n",
      "r2_score 0.9701346717051982\n"
     ]
    }
   ],
   "source": [
    "X = df_10[[\"Step count\",\"Move Minutes count\"]]\n",
    "y = df_10[\"Calories (kcal)\"]\n",
    "\n",
    "X_train,X_test,y_train,y_test = train_test_split(X,y,test_size=0.2,random_state=43)\n",
    "from sklearn.tree import DecisionTreeRegressor\n",
    "D = DecisionTreeRegressor(max_depth=8)\n",
    "D.fit(X_test,y_test)\n",
    "D_pred = D.predict(X_test)\n",
    "import numpy\n",
    "from sklearn.metrics import mean_squared_error\n",
    "print('mean_squared_error:',mean_squared_error(y_test,D_pred))\n",
    "from sklearn.metrics import mean_absolute_error\n",
    "print(\"mean_absolute_error\",mean_absolute_error(y_test,D_pred))\n",
    "from sklearn.metrics import r2_score\n",
    "print(\"r2_score\",r2_score(y_test,D_pred))"
   ]
  },
  {
   "cell_type": "code",
   "execution_count": 36,
   "id": "f086dcac",
   "metadata": {},
   "outputs": [
    {
     "name": "stdout",
     "output_type": "stream",
     "text": [
      "mean_squared_error: 0.43864556466151944\n",
      "mean_absolute_error 0.2566266030000001\n",
      "r2_score 0.998902311869934\n"
     ]
    }
   ],
   "source": [
    "X = df_11[[\"Step count\",\"Move Minutes count\"]]\n",
    "y = df_11[\"Calories (kcal)\"]\n",
    "\n",
    "X_train,X_test,y_train,y_test = train_test_split(X,y,test_size=0.2,random_state=43)\n",
    "from sklearn.tree import DecisionTreeRegressor\n",
    "D = DecisionTreeRegressor(max_depth=8)\n",
    "D.fit(X_test,y_test)\n",
    "D_pred = D.predict(X_test)\n",
    "import numpy\n",
    "from sklearn.metrics import mean_squared_error\n",
    "print('mean_squared_error:',mean_squared_error(y_test,D_pred))\n",
    "from sklearn.metrics import mean_absolute_error\n",
    "print(\"mean_absolute_error\",mean_absolute_error(y_test,D_pred))\n",
    "from sklearn.metrics import r2_score\n",
    "print(\"r2_score\",r2_score(y_test,D_pred))"
   ]
  },
  {
   "cell_type": "code",
   "execution_count": 37,
   "id": "41f2a71b",
   "metadata": {},
   "outputs": [
    {
     "name": "stdout",
     "output_type": "stream",
     "text": [
      "mean_squared_error: 0.5700316947659927\n",
      "mean_absolute_error 0.32867707901234566\n",
      "r2_score 0.9979973954368307\n"
     ]
    }
   ],
   "source": [
    "X = df_12[[\"Step count\",\"Move Minutes count\"]]\n",
    "y = df_12[\"Calories (kcal)\"]\n",
    "\n",
    "X_train,X_test,y_train,y_test = train_test_split(X,y,test_size=0.2,random_state=43)\n",
    "from sklearn.tree import DecisionTreeRegressor\n",
    "D = DecisionTreeRegressor(max_depth=8)\n",
    "D.fit(X_test,y_test)\n",
    "D_pred = D.predict(X_test)\n",
    "import numpy\n",
    "from sklearn.metrics import mean_squared_error\n",
    "print('mean_squared_error:',mean_squared_error(y_test,D_pred))\n",
    "from sklearn.metrics import mean_absolute_error\n",
    "print(\"mean_absolute_error\",mean_absolute_error(y_test,D_pred))\n",
    "from sklearn.metrics import r2_score\n",
    "print(\"r2_score\",r2_score(y_test,D_pred))"
   ]
  },
  {
   "cell_type": "code",
   "execution_count": 38,
   "id": "76babd8e",
   "metadata": {},
   "outputs": [
    {
     "name": "stdout",
     "output_type": "stream",
     "text": [
      "mean_squared_error: 0.3076188826503542\n",
      "mean_absolute_error 0.2142726477419354\n",
      "r2_score 0.9988374408711541\n"
     ]
    }
   ],
   "source": [
    "X = df_13[[\"Step count\",\"Move Minutes count\"]]\n",
    "y = df_13[\"Calories (kcal)\"]\n",
    "\n",
    "X_train,X_test,y_train,y_test = train_test_split(X,y,test_size=0.2,random_state=43)\n",
    "from sklearn.tree import DecisionTreeRegressor\n",
    "D = DecisionTreeRegressor(max_depth=8)\n",
    "D.fit(X_test,y_test)\n",
    "D_pred = D.predict(X_test)\n",
    "import numpy\n",
    "from sklearn.metrics import mean_squared_error\n",
    "print('mean_squared_error:',mean_squared_error(y_test,D_pred))\n",
    "from sklearn.metrics import mean_absolute_error\n",
    "print(\"mean_absolute_error\",mean_absolute_error(y_test,D_pred))\n",
    "from sklearn.metrics import r2_score\n",
    "print(\"r2_score\",r2_score(y_test,D_pred))"
   ]
  },
  {
   "cell_type": "code",
   "execution_count": 39,
   "id": "68217099",
   "metadata": {},
   "outputs": [
    {
     "name": "stdout",
     "output_type": "stream",
     "text": [
      "mean_squared_error: 0.22509373224692755\n",
      "mean_absolute_error 0.20206653363636423\n",
      "r2_score 0.998912678248245\n"
     ]
    }
   ],
   "source": [
    "X = df_14[[\"Step count\",\"Move Minutes count\"]]\n",
    "y = df_14[\"Calories (kcal)\"]\n",
    "\n",
    "X_train,X_test,y_train,y_test = train_test_split(X,y,test_size=0.2,random_state=43)\n",
    "from sklearn.tree import DecisionTreeRegressor\n",
    "D = DecisionTreeRegressor(max_depth=8)\n",
    "D.fit(X_test,y_test)\n",
    "D_pred = D.predict(X_test)\n",
    "import numpy\n",
    "from sklearn.metrics import mean_squared_error\n",
    "print('mean_squared_error:',mean_squared_error(y_test,D_pred))\n",
    "from sklearn.metrics import mean_absolute_error\n",
    "print(\"mean_absolute_error\",mean_absolute_error(y_test,D_pred))\n",
    "from sklearn.metrics import r2_score\n",
    "print(\"r2_score\",r2_score(y_test,D_pred))"
   ]
  },
  {
   "cell_type": "code",
   "execution_count": 40,
   "id": "a422893a",
   "metadata": {},
   "outputs": [
    {
     "name": "stdout",
     "output_type": "stream",
     "text": [
      "mean_squared_error: 9.288919322162853\n",
      "mean_absolute_error 1.3680031378823\n",
      "r2_score 0.9878574584174011\n"
     ]
    }
   ],
   "source": [
    "X = df_15[[\"Step count\",\"Move Minutes count\"]]\n",
    "y = df_15[\"Calories (kcal)\"]\n",
    "\n",
    "X_train,X_test,y_train,y_test = train_test_split(X,y,test_size=0.2,random_state=43)\n",
    "from sklearn.tree import DecisionTreeRegressor\n",
    "D = DecisionTreeRegressor(max_depth=8)\n",
    "D.fit(X_test,y_test)\n",
    "D_pred = D.predict(X_test)\n",
    "import numpy\n",
    "from sklearn.metrics import mean_squared_error\n",
    "print('mean_squared_error:',mean_squared_error(y_test,D_pred))\n",
    "from sklearn.metrics import mean_absolute_error\n",
    "print(\"mean_absolute_error\",mean_absolute_error(y_test,D_pred))\n",
    "from sklearn.metrics import r2_score\n",
    "print(\"r2_score\",r2_score(y_test,D_pred))"
   ]
  },
  {
   "cell_type": "code",
   "execution_count": null,
   "id": "f7c556e8",
   "metadata": {},
   "outputs": [],
   "source": []
  }
 ],
 "metadata": {
  "kernelspec": {
   "display_name": "Python 3",
   "language": "python",
   "name": "python3"
  },
  "language_info": {
   "codemirror_mode": {
    "name": "ipython",
    "version": 3
   },
   "file_extension": ".py",
   "mimetype": "text/x-python",
   "name": "python",
   "nbconvert_exporter": "python",
   "pygments_lexer": "ipython3",
   "version": "3.8.8"
  }
 },
 "nbformat": 4,
 "nbformat_minor": 5
}
