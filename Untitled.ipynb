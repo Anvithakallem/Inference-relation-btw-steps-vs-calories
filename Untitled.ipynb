{
 "cells": [
  {
   "cell_type": "code",
   "execution_count": 1,
   "id": "00a27d85",
   "metadata": {},
   "outputs": [],
   "source": [
    "import pandas as pd\n",
    "import numpy as np\n",
    "import matplotlib.pyplot as plt\n",
    "import seaborn as sns\n",
    "import plotly.express as px"
   ]
  },
  {
   "cell_type": "code",
   "execution_count": 2,
   "id": "d01f327c",
   "metadata": {},
   "outputs": [],
   "source": [
    "df = pd.read_csv(\"Daily activity metrics.csv\")"
   ]
  },
  {
   "cell_type": "code",
   "execution_count": 3,
   "id": "7a5d741e",
   "metadata": {},
   "outputs": [
    {
     "name": "stderr",
     "output_type": "stream",
     "text": [
      "<ipython-input-3-6cf2c4fe38f2>:1: FutureWarning: The frame.append method is deprecated and will be removed from pandas in a future version. Use pandas.concat instead.\n",
      "  df.head(5).append(df.tail(5))\n"
     ]
    },
    {
     "data": {
      "text/html": [
       "<div>\n",
       "<style scoped>\n",
       "    .dataframe tbody tr th:only-of-type {\n",
       "        vertical-align: middle;\n",
       "    }\n",
       "\n",
       "    .dataframe tbody tr th {\n",
       "        vertical-align: top;\n",
       "    }\n",
       "\n",
       "    .dataframe thead th {\n",
       "        text-align: right;\n",
       "    }\n",
       "</style>\n",
       "<table border=\"1\" class=\"dataframe\">\n",
       "  <thead>\n",
       "    <tr style=\"text-align: right;\">\n",
       "      <th></th>\n",
       "      <th>Unnamed: 0</th>\n",
       "      <th>Move Minutes count</th>\n",
       "      <th>Calories (kcal)</th>\n",
       "      <th>Distance (m)</th>\n",
       "      <th>Heart Points</th>\n",
       "      <th>Heart Minutes</th>\n",
       "      <th>Average speed (m/s)</th>\n",
       "      <th>Max speed (m/s)</th>\n",
       "      <th>Min speed (m/s)</th>\n",
       "      <th>Step count</th>\n",
       "      <th>Cycling duration (ms)</th>\n",
       "      <th>Walking duration (ms)</th>\n",
       "      <th>Running duration (ms)</th>\n",
       "    </tr>\n",
       "  </thead>\n",
       "  <tbody>\n",
       "    <tr>\n",
       "      <th>0</th>\n",
       "      <td>04-06-2021</td>\n",
       "      <td>109</td>\n",
       "      <td>582.216593</td>\n",
       "      <td>4679.000278</td>\n",
       "      <td>2.0</td>\n",
       "      <td>2.0</td>\n",
       "      <td>0.818729</td>\n",
       "      <td>1.615863</td>\n",
       "      <td>0.253398</td>\n",
       "      <td>7828</td>\n",
       "      <td>NaN</td>\n",
       "      <td>7555805</td>\n",
       "      <td>NaN</td>\n",
       "    </tr>\n",
       "    <tr>\n",
       "      <th>1</th>\n",
       "      <td>05-06-2021</td>\n",
       "      <td>140</td>\n",
       "      <td>664.260324</td>\n",
       "      <td>7866.790429</td>\n",
       "      <td>40.0</td>\n",
       "      <td>36.0</td>\n",
       "      <td>0.496420</td>\n",
       "      <td>2.375441</td>\n",
       "      <td>0.255051</td>\n",
       "      <td>12064</td>\n",
       "      <td>NaN</td>\n",
       "      <td>8089788</td>\n",
       "      <td>254918.0</td>\n",
       "    </tr>\n",
       "    <tr>\n",
       "      <th>2</th>\n",
       "      <td>06-06-2021</td>\n",
       "      <td>226</td>\n",
       "      <td>968.921791</td>\n",
       "      <td>11396.368300</td>\n",
       "      <td>34.0</td>\n",
       "      <td>34.0</td>\n",
       "      <td>0.501794</td>\n",
       "      <td>2.386000</td>\n",
       "      <td>0.251058</td>\n",
       "      <td>18134</td>\n",
       "      <td>NaN</td>\n",
       "      <td>12410577</td>\n",
       "      <td>81258.0</td>\n",
       "    </tr>\n",
       "    <tr>\n",
       "      <th>3</th>\n",
       "      <td>07-06-2021</td>\n",
       "      <td>184</td>\n",
       "      <td>861.420122</td>\n",
       "      <td>10221.113450</td>\n",
       "      <td>46.0</td>\n",
       "      <td>43.0</td>\n",
       "      <td>0.714533</td>\n",
       "      <td>2.551417</td>\n",
       "      <td>0.251058</td>\n",
       "      <td>15760</td>\n",
       "      <td>NaN</td>\n",
       "      <td>10735785</td>\n",
       "      <td>205313.0</td>\n",
       "    </tr>\n",
       "    <tr>\n",
       "      <th>4</th>\n",
       "      <td>08-06-2021</td>\n",
       "      <td>233</td>\n",
       "      <td>1111.783558</td>\n",
       "      <td>12535.794850</td>\n",
       "      <td>52.0</td>\n",
       "      <td>49.0</td>\n",
       "      <td>0.471283</td>\n",
       "      <td>2.201482</td>\n",
       "      <td>0.251833</td>\n",
       "      <td>19354</td>\n",
       "      <td>NaN</td>\n",
       "      <td>14073663</td>\n",
       "      <td>179702.0</td>\n",
       "    </tr>\n",
       "    <tr>\n",
       "      <th>394</th>\n",
       "      <td>27-09-2022</td>\n",
       "      <td>100</td>\n",
       "      <td>491.560834</td>\n",
       "      <td>4744.008164</td>\n",
       "      <td>13.0</td>\n",
       "      <td>11.0</td>\n",
       "      <td>0.547079</td>\n",
       "      <td>3.970572</td>\n",
       "      <td>0.255347</td>\n",
       "      <td>7324</td>\n",
       "      <td>NaN</td>\n",
       "      <td>5168085</td>\n",
       "      <td>NaN</td>\n",
       "    </tr>\n",
       "    <tr>\n",
       "      <th>395</th>\n",
       "      <td>28-09-2022</td>\n",
       "      <td>113</td>\n",
       "      <td>653.291411</td>\n",
       "      <td>5239.409397</td>\n",
       "      <td>16.0</td>\n",
       "      <td>14.0</td>\n",
       "      <td>0.685844</td>\n",
       "      <td>2.972330</td>\n",
       "      <td>0.261271</td>\n",
       "      <td>8187</td>\n",
       "      <td>NaN</td>\n",
       "      <td>7238767</td>\n",
       "      <td>NaN</td>\n",
       "    </tr>\n",
       "    <tr>\n",
       "      <th>396</th>\n",
       "      <td>29-09-2022</td>\n",
       "      <td>86</td>\n",
       "      <td>444.784868</td>\n",
       "      <td>3719.573660</td>\n",
       "      <td>7.0</td>\n",
       "      <td>7.0</td>\n",
       "      <td>0.465260</td>\n",
       "      <td>2.463379</td>\n",
       "      <td>0.250829</td>\n",
       "      <td>5982</td>\n",
       "      <td>NaN</td>\n",
       "      <td>4790206</td>\n",
       "      <td>NaN</td>\n",
       "    </tr>\n",
       "    <tr>\n",
       "      <th>397</th>\n",
       "      <td>30-09-2022</td>\n",
       "      <td>139</td>\n",
       "      <td>708.265479</td>\n",
       "      <td>6030.474435</td>\n",
       "      <td>14.0</td>\n",
       "      <td>12.0</td>\n",
       "      <td>0.720999</td>\n",
       "      <td>3.249923</td>\n",
       "      <td>0.261519</td>\n",
       "      <td>9478</td>\n",
       "      <td>NaN</td>\n",
       "      <td>7680683</td>\n",
       "      <td>77566.0</td>\n",
       "    </tr>\n",
       "    <tr>\n",
       "      <th>398</th>\n",
       "      <td>01-10-2022</td>\n",
       "      <td>146</td>\n",
       "      <td>443.351411</td>\n",
       "      <td>6064.158667</td>\n",
       "      <td>16.0</td>\n",
       "      <td>14.0</td>\n",
       "      <td>0.471127</td>\n",
       "      <td>2.467333</td>\n",
       "      <td>0.251058</td>\n",
       "      <td>9519</td>\n",
       "      <td>NaN</td>\n",
       "      <td>4921960</td>\n",
       "      <td>NaN</td>\n",
       "    </tr>\n",
       "  </tbody>\n",
       "</table>\n",
       "</div>"
      ],
      "text/plain": [
       "     Unnamed: 0  Move Minutes count  Calories (kcal)  Distance (m)  \\\n",
       "0    04-06-2021                 109       582.216593   4679.000278   \n",
       "1    05-06-2021                 140       664.260324   7866.790429   \n",
       "2    06-06-2021                 226       968.921791  11396.368300   \n",
       "3    07-06-2021                 184       861.420122  10221.113450   \n",
       "4    08-06-2021                 233      1111.783558  12535.794850   \n",
       "394  27-09-2022                 100       491.560834   4744.008164   \n",
       "395  28-09-2022                 113       653.291411   5239.409397   \n",
       "396  29-09-2022                  86       444.784868   3719.573660   \n",
       "397  30-09-2022                 139       708.265479   6030.474435   \n",
       "398  01-10-2022                 146       443.351411   6064.158667   \n",
       "\n",
       "     Heart Points  Heart Minutes  Average speed (m/s)  Max speed (m/s)  \\\n",
       "0             2.0            2.0             0.818729         1.615863   \n",
       "1            40.0           36.0             0.496420         2.375441   \n",
       "2            34.0           34.0             0.501794         2.386000   \n",
       "3            46.0           43.0             0.714533         2.551417   \n",
       "4            52.0           49.0             0.471283         2.201482   \n",
       "394          13.0           11.0             0.547079         3.970572   \n",
       "395          16.0           14.0             0.685844         2.972330   \n",
       "396           7.0            7.0             0.465260         2.463379   \n",
       "397          14.0           12.0             0.720999         3.249923   \n",
       "398          16.0           14.0             0.471127         2.467333   \n",
       "\n",
       "     Min speed (m/s)  Step count  Cycling duration (ms)  \\\n",
       "0           0.253398        7828                    NaN   \n",
       "1           0.255051       12064                    NaN   \n",
       "2           0.251058       18134                    NaN   \n",
       "3           0.251058       15760                    NaN   \n",
       "4           0.251833       19354                    NaN   \n",
       "394         0.255347        7324                    NaN   \n",
       "395         0.261271        8187                    NaN   \n",
       "396         0.250829        5982                    NaN   \n",
       "397         0.261519        9478                    NaN   \n",
       "398         0.251058        9519                    NaN   \n",
       "\n",
       "     Walking duration (ms)  Running duration (ms)  \n",
       "0                  7555805                    NaN  \n",
       "1                  8089788               254918.0  \n",
       "2                 12410577                81258.0  \n",
       "3                 10735785               205313.0  \n",
       "4                 14073663               179702.0  \n",
       "394                5168085                    NaN  \n",
       "395                7238767                    NaN  \n",
       "396                4790206                    NaN  \n",
       "397                7680683                77566.0  \n",
       "398                4921960                    NaN  "
      ]
     },
     "execution_count": 3,
     "metadata": {},
     "output_type": "execute_result"
    }
   ],
   "source": [
    "df.head(5).append(df.tail(5))"
   ]
  },
  {
   "cell_type": "code",
   "execution_count": 4,
   "id": "d4835820",
   "metadata": {},
   "outputs": [
    {
     "data": {
      "text/plain": [
       "Unnamed: 0                object\n",
       "Move Minutes count         int64\n",
       "Calories (kcal)          float64\n",
       "Distance (m)             float64\n",
       "Heart Points             float64\n",
       "Heart Minutes            float64\n",
       "Average speed (m/s)      float64\n",
       "Max speed (m/s)          float64\n",
       "Min speed (m/s)          float64\n",
       "Step count                 int64\n",
       "Cycling duration (ms)    float64\n",
       "Walking duration (ms)      int64\n",
       "Running duration (ms)    float64\n",
       "dtype: object"
      ]
     },
     "execution_count": 4,
     "metadata": {},
     "output_type": "execute_result"
    }
   ],
   "source": [
    "df.dtypes"
   ]
  },
  {
   "cell_type": "code",
   "execution_count": 5,
   "id": "00e4e1c9",
   "metadata": {},
   "outputs": [
    {
     "name": "stderr",
     "output_type": "stream",
     "text": [
      "<ipython-input-5-973cbbf497e9>:1: UserWarning: Parsing dates in DD/MM/YYYY format when dayfirst=False (the default) was specified. This may lead to inconsistently parsed dates! Specify a format to ensure consistent parsing.\n",
      "  df[\"Date\"]=df[\"Unnamed: 0\"].astype('datetime64[ns]')\n"
     ]
    }
   ],
   "source": [
    "df[\"Date\"]=df[\"Unnamed: 0\"].astype('datetime64[ns]')"
   ]
  },
  {
   "cell_type": "code",
   "execution_count": 6,
   "id": "32123902",
   "metadata": {
    "scrolled": true
   },
   "outputs": [
    {
     "data": {
      "text/html": [
       "<div>\n",
       "<style scoped>\n",
       "    .dataframe tbody tr th:only-of-type {\n",
       "        vertical-align: middle;\n",
       "    }\n",
       "\n",
       "    .dataframe tbody tr th {\n",
       "        vertical-align: top;\n",
       "    }\n",
       "\n",
       "    .dataframe thead th {\n",
       "        text-align: right;\n",
       "    }\n",
       "</style>\n",
       "<table border=\"1\" class=\"dataframe\">\n",
       "  <thead>\n",
       "    <tr style=\"text-align: right;\">\n",
       "      <th></th>\n",
       "      <th>Move Minutes count</th>\n",
       "      <th>Calories (kcal)</th>\n",
       "      <th>Distance (m)</th>\n",
       "      <th>Heart Points</th>\n",
       "      <th>Heart Minutes</th>\n",
       "      <th>Average speed (m/s)</th>\n",
       "      <th>Max speed (m/s)</th>\n",
       "      <th>Min speed (m/s)</th>\n",
       "      <th>Step count</th>\n",
       "      <th>Cycling duration (ms)</th>\n",
       "      <th>Walking duration (ms)</th>\n",
       "      <th>Running duration (ms)</th>\n",
       "    </tr>\n",
       "  </thead>\n",
       "  <tbody>\n",
       "    <tr>\n",
       "      <th>count</th>\n",
       "      <td>399.000000</td>\n",
       "      <td>399.000000</td>\n",
       "      <td>399.000000</td>\n",
       "      <td>373.000000</td>\n",
       "      <td>373.000000</td>\n",
       "      <td>399.000000</td>\n",
       "      <td>399.000000</td>\n",
       "      <td>399.000000</td>\n",
       "      <td>399.000000</td>\n",
       "      <td>5.600000e+01</td>\n",
       "      <td>3.990000e+02</td>\n",
       "      <td>1.050000e+02</td>\n",
       "    </tr>\n",
       "    <tr>\n",
       "      <th>mean</th>\n",
       "      <td>145.716792</td>\n",
       "      <td>668.324097</td>\n",
       "      <td>7796.352602</td>\n",
       "      <td>46.008043</td>\n",
       "      <td>40.855228</td>\n",
       "      <td>0.573932</td>\n",
       "      <td>2.552793</td>\n",
       "      <td>0.254300</td>\n",
       "      <td>11814.115288</td>\n",
       "      <td>1.230903e+06</td>\n",
       "      <td>7.522678e+06</td>\n",
       "      <td>8.469740e+05</td>\n",
       "    </tr>\n",
       "    <tr>\n",
       "      <th>std</th>\n",
       "      <td>59.328635</td>\n",
       "      <td>278.129128</td>\n",
       "      <td>4016.958751</td>\n",
       "      <td>40.480812</td>\n",
       "      <td>33.288256</td>\n",
       "      <td>0.123173</td>\n",
       "      <td>1.249100</td>\n",
       "      <td>0.009495</td>\n",
       "      <td>5451.498788</td>\n",
       "      <td>1.091321e+06</td>\n",
       "      <td>3.259551e+06</td>\n",
       "      <td>7.679882e+05</td>\n",
       "    </tr>\n",
       "    <tr>\n",
       "      <th>min</th>\n",
       "      <td>4.000000</td>\n",
       "      <td>22.331892</td>\n",
       "      <td>203.066207</td>\n",
       "      <td>1.000000</td>\n",
       "      <td>1.000000</td>\n",
       "      <td>0.308893</td>\n",
       "      <td>0.764944</td>\n",
       "      <td>0.234271</td>\n",
       "      <td>443.000000</td>\n",
       "      <td>5.555400e+04</td>\n",
       "      <td>2.898150e+05</td>\n",
       "      <td>5.579500e+04</td>\n",
       "    </tr>\n",
       "    <tr>\n",
       "      <th>25%</th>\n",
       "      <td>108.500000</td>\n",
       "      <td>466.639171</td>\n",
       "      <td>4810.073761</td>\n",
       "      <td>14.000000</td>\n",
       "      <td>14.000000</td>\n",
       "      <td>0.490654</td>\n",
       "      <td>1.427350</td>\n",
       "      <td>0.250833</td>\n",
       "      <td>7829.000000</td>\n",
       "      <td>5.406138e+05</td>\n",
       "      <td>5.206824e+06</td>\n",
       "      <td>2.304060e+05</td>\n",
       "    </tr>\n",
       "    <tr>\n",
       "      <th>50%</th>\n",
       "      <td>145.000000</td>\n",
       "      <td>664.260324</td>\n",
       "      <td>7464.635929</td>\n",
       "      <td>34.000000</td>\n",
       "      <td>32.000000</td>\n",
       "      <td>0.557783</td>\n",
       "      <td>2.386000</td>\n",
       "      <td>0.251058</td>\n",
       "      <td>11468.000000</td>\n",
       "      <td>8.835295e+05</td>\n",
       "      <td>7.510654e+06</td>\n",
       "      <td>6.021340e+05</td>\n",
       "    </tr>\n",
       "    <tr>\n",
       "      <th>75%</th>\n",
       "      <td>191.000000</td>\n",
       "      <td>859.442311</td>\n",
       "      <td>10671.454495</td>\n",
       "      <td>63.000000</td>\n",
       "      <td>61.000000</td>\n",
       "      <td>0.638838</td>\n",
       "      <td>3.393588</td>\n",
       "      <td>0.257705</td>\n",
       "      <td>15533.000000</td>\n",
       "      <td>1.493370e+06</td>\n",
       "      <td>9.729566e+06</td>\n",
       "      <td>1.438566e+06</td>\n",
       "    </tr>\n",
       "    <tr>\n",
       "      <th>max</th>\n",
       "      <td>289.000000</td>\n",
       "      <td>1441.480971</td>\n",
       "      <td>19137.206990</td>\n",
       "      <td>183.000000</td>\n",
       "      <td>133.000000</td>\n",
       "      <td>1.256469</td>\n",
       "      <td>7.313663</td>\n",
       "      <td>0.313823</td>\n",
       "      <td>25176.000000</td>\n",
       "      <td>6.059124e+06</td>\n",
       "      <td>1.642133e+07</td>\n",
       "      <td>3.302316e+06</td>\n",
       "    </tr>\n",
       "  </tbody>\n",
       "</table>\n",
       "</div>"
      ],
      "text/plain": [
       "       Move Minutes count  Calories (kcal)  Distance (m)  Heart Points  \\\n",
       "count          399.000000       399.000000    399.000000    373.000000   \n",
       "mean           145.716792       668.324097   7796.352602     46.008043   \n",
       "std             59.328635       278.129128   4016.958751     40.480812   \n",
       "min              4.000000        22.331892    203.066207      1.000000   \n",
       "25%            108.500000       466.639171   4810.073761     14.000000   \n",
       "50%            145.000000       664.260324   7464.635929     34.000000   \n",
       "75%            191.000000       859.442311  10671.454495     63.000000   \n",
       "max            289.000000      1441.480971  19137.206990    183.000000   \n",
       "\n",
       "       Heart Minutes  Average speed (m/s)  Max speed (m/s)  Min speed (m/s)  \\\n",
       "count     373.000000           399.000000       399.000000       399.000000   \n",
       "mean       40.855228             0.573932         2.552793         0.254300   \n",
       "std        33.288256             0.123173         1.249100         0.009495   \n",
       "min         1.000000             0.308893         0.764944         0.234271   \n",
       "25%        14.000000             0.490654         1.427350         0.250833   \n",
       "50%        32.000000             0.557783         2.386000         0.251058   \n",
       "75%        61.000000             0.638838         3.393588         0.257705   \n",
       "max       133.000000             1.256469         7.313663         0.313823   \n",
       "\n",
       "         Step count  Cycling duration (ms)  Walking duration (ms)  \\\n",
       "count    399.000000           5.600000e+01           3.990000e+02   \n",
       "mean   11814.115288           1.230903e+06           7.522678e+06   \n",
       "std     5451.498788           1.091321e+06           3.259551e+06   \n",
       "min      443.000000           5.555400e+04           2.898150e+05   \n",
       "25%     7829.000000           5.406138e+05           5.206824e+06   \n",
       "50%    11468.000000           8.835295e+05           7.510654e+06   \n",
       "75%    15533.000000           1.493370e+06           9.729566e+06   \n",
       "max    25176.000000           6.059124e+06           1.642133e+07   \n",
       "\n",
       "       Running duration (ms)  \n",
       "count           1.050000e+02  \n",
       "mean            8.469740e+05  \n",
       "std             7.679882e+05  \n",
       "min             5.579500e+04  \n",
       "25%             2.304060e+05  \n",
       "50%             6.021340e+05  \n",
       "75%             1.438566e+06  \n",
       "max             3.302316e+06  "
      ]
     },
     "execution_count": 6,
     "metadata": {},
     "output_type": "execute_result"
    }
   ],
   "source": [
    "df.describe()"
   ]
  },
  {
   "cell_type": "code",
   "execution_count": 7,
   "id": "72b73eb4",
   "metadata": {},
   "outputs": [
    {
     "data": {
      "text/plain": [
       "<AxesSubplot: xlabel='Unnamed: 0', ylabel='Calories (kcal)'>"
      ]
     },
     "execution_count": 7,
     "metadata": {},
     "output_type": "execute_result"
    },
    {
     "data": {
      "image/png": "[encoded data removed]",
      "text/plain": [
       "<Figure size 432x288 with 1 Axes>"
      ]
     },
     "metadata": {
      "needs_background": "light"
     },
     "output_type": "display_data"
    }
   ],
   "source": [
    "sns.lineplot(x=\"Unnamed: 0\",y=\"Calories (kcal)\",data=df)"
   ]
  },
  {
   "cell_type": "code",
   "execution_count": 8,
   "id": "aee07710",
   "metadata": {},
   "outputs": [
    {
     "data": {
      "text/plain": [
       "Unnamed: 0                 0\n",
       "Move Minutes count         0\n",
       "Calories (kcal)            0\n",
       "Distance (m)               0\n",
       "Heart Points              26\n",
       "Heart Minutes             26\n",
       "Average speed (m/s)        0\n",
       "Max speed (m/s)            0\n",
       "Min speed (m/s)            0\n",
       "Step count                 0\n",
       "Cycling duration (ms)    343\n",
       "Walking duration (ms)      0\n",
       "Running duration (ms)    294\n",
       "Date                       0\n",
       "dtype: int64"
      ]
     },
     "execution_count": 8,
     "metadata": {},
     "output_type": "execute_result"
    }
   ],
   "source": [
    "df.isna().sum()"
   ]
  },
  {
   "cell_type": "code",
   "execution_count": 9,
   "id": "6a37bc9c",
   "metadata": {},
   "outputs": [],
   "source": [
    "df=df.fillna(0)"
   ]
  },
  {
   "cell_type": "code",
   "execution_count": 10,
   "id": "7021acf7",
   "metadata": {},
   "outputs": [],
   "source": [
    "from sklearn.preprocessing import LabelEncoder\n",
    "le = LabelEncoder()\n",
    "df[\"Date\"]=le.fit_transform(df[\"Unnamed: 0\"])"
   ]
  },
  {
   "cell_type": "code",
   "execution_count": 11,
   "id": "f4488285",
   "metadata": {},
   "outputs": [],
   "source": [
    "df=df[[\"Move Minutes count\",\"Calories (kcal)\",\"Step count\",\"Unnamed: 0\"]]"
   ]
  },
  {
   "cell_type": "code",
   "execution_count": 12,
   "id": "361bcdd4",
   "metadata": {},
   "outputs": [
    {
     "name": "stderr",
     "output_type": "stream",
     "text": [
      "<ipython-input-12-2f6f6606aa2c>:1: FutureWarning: The default value of numeric_only in DataFrame.corr is deprecated. In a future version, it will default to False. Select only valid columns or specify the value of numeric_only to silence this warning.\n",
      "  df.corr()\n"
     ]
    },
    {
     "data": {
      "text/html": [
       "<div>\n",
       "<style scoped>\n",
       "    .dataframe tbody tr th:only-of-type {\n",
       "        vertical-align: middle;\n",
       "    }\n",
       "\n",
       "    .dataframe tbody tr th {\n",
       "        vertical-align: top;\n",
       "    }\n",
       "\n",
       "    .dataframe thead th {\n",
       "        text-align: right;\n",
       "    }\n",
       "</style>\n",
       "<table border=\"1\" class=\"dataframe\">\n",
       "  <thead>\n",
       "    <tr style=\"text-align: right;\">\n",
       "      <th></th>\n",
       "      <th>Move Minutes count</th>\n",
       "      <th>Calories (kcal)</th>\n",
       "      <th>Step count</th>\n",
       "    </tr>\n",
       "  </thead>\n",
       "  <tbody>\n",
       "    <tr>\n",
       "      <th>Move Minutes count</th>\n",
       "      <td>1.000000</td>\n",
       "      <td>0.891783</td>\n",
       "      <td>0.942683</td>\n",
       "    </tr>\n",
       "    <tr>\n",
       "      <th>Calories (kcal)</th>\n",
       "      <td>0.891783</td>\n",
       "      <td>1.000000</td>\n",
       "      <td>0.922864</td>\n",
       "    </tr>\n",
       "    <tr>\n",
       "      <th>Step count</th>\n",
       "      <td>0.942683</td>\n",
       "      <td>0.922864</td>\n",
       "      <td>1.000000</td>\n",
       "    </tr>\n",
       "  </tbody>\n",
       "</table>\n",
       "</div>"
      ],
      "text/plain": [
       "                    Move Minutes count  Calories (kcal)  Step count\n",
       "Move Minutes count            1.000000         0.891783    0.942683\n",
       "Calories (kcal)               0.891783         1.000000    0.922864\n",
       "Step count                    0.942683         0.922864    1.000000"
      ]
     },
     "execution_count": 12,
     "metadata": {},
     "output_type": "execute_result"
    }
   ],
   "source": [
    "df.corr()"
   ]
  },
  {
   "cell_type": "code",
   "execution_count": 13,
   "id": "9240216e",
   "metadata": {},
   "outputs": [
    {
     "name": "stdout",
     "output_type": "stream",
     "text": [
      "The maximum number of steps 25176\n",
      "The minimum number of steps 443\n"
     ]
    }
   ],
   "source": [
    "print(\"The maximum number of steps\",df[\"Step count\"].max())\n",
    "print(\"The minimum number of steps\",df[\"Step count\"].min())"
   ]
  },
  {
   "cell_type": "code",
   "execution_count": 14,
   "id": "0f591e0e",
   "metadata": {},
   "outputs": [
    {
     "name": "stderr",
     "output_type": "stream",
     "text": [
      "<ipython-input-14-8df7bcac526d>:1: FutureWarning: The default value of numeric_only in DataFrame.corr is deprecated. In a future version, it will default to False. Select only valid columns or specify the value of numeric_only to silence this warning.\n",
      "  sns.heatmap(df.corr(),annot=True)\n"
     ]
    },
    {
     "data": {
      "text/plain": [
       "<AxesSubplot: >"
      ]
     },
     "execution_count": 14,
     "metadata": {},
     "output_type": "execute_result"
    },
    {
     "data": {
      "image/png": "[encoded data removed]",
      "text/plain": [
       "<Figure size 432x288 with 2 Axes>"
      ]
     },
     "metadata": {
      "needs_background": "light"
     },
     "output_type": "display_data"
    }
   ],
   "source": [
    "sns.heatmap(df.corr(),annot=True)"
   ]
  },
  {
   "cell_type": "code",
   "execution_count": 15,
   "id": "1bacf322",
   "metadata": {},
   "outputs": [
    {
     "data": {
      "text/plain": [
       "Move Minutes count      int64\n",
       "Calories (kcal)       float64\n",
       "Step count              int64\n",
       "Unnamed: 0             object\n",
       "dtype: object"
      ]
     },
     "execution_count": 15,
     "metadata": {},
     "output_type": "execute_result"
    }
   ],
   "source": [
    "df.dtypes"
   ]
  },
  {
   "cell_type": "markdown",
   "id": "88c531a6",
   "metadata": {},
   "source": [
    "### linear regression model"
   ]
  },
  {
   "cell_type": "code",
   "execution_count": null,
   "id": "5e0447dd",
   "metadata": {},
   "outputs": [],
   "source": []
  },
  {
   "cell_type": "code",
   "execution_count": 16,
   "id": "165ed064",
   "metadata": {},
   "outputs": [],
   "source": [
    "from sklearn.metrics import mean_squared_error\n",
    "from sklearn.metrics import mean_absolute_error\n",
    "from sklearn.metrics import r2_score\n",
    "from sklearn.preprocessing import PolynomialFeatures \n",
    "from sklearn.model_selection import train_test_split\n",
    "from sklearn.linear_model import LinearRegression\n",
    "X = df.drop([\"Calories (kcal)\",\"Unnamed: 0\"],axis=1)\n",
    "y = df[\"Calories (kcal)\"]\n",
    "from sklearn.model_selection import train_test_split\n",
    "X_train,X_test,y_train,y_test = train_test_split(X,y,test_size=0.3,random_state=43)\n",
    "lr =  LinearRegression()\n",
    "lr.fit(X_train,y_train)\n",
    "y_pred=lr.predict(X_test)"
   ]
  },
  {
   "cell_type": "code",
   "execution_count": 17,
   "id": "6a15106c",
   "metadata": {},
   "outputs": [
    {
     "data": {
      "text/plain": [
       "array([ 586.45256885,  643.00843961,  842.69291437,  169.84956852,\n",
       "        748.82417894,  837.39585847, 1013.57262111,  885.52002055,\n",
       "        586.39282775,  435.29856981,  735.70174542,  715.13281589,\n",
       "        863.64041273, 1116.07002434,  237.1747314 ,  727.05098604,\n",
       "        713.73268233,  615.80076427,  776.59737326,  633.92709714,\n",
       "        786.30081324,  396.5966695 ,  963.11414239,  614.24023217,\n",
       "        834.02877493,  324.33398626,  355.06240153,  619.60605347,\n",
       "        649.89289199,  315.25482167,  512.5042181 ,  967.95655426,\n",
       "       1103.57098579,  307.51485634,  984.55315815,  499.79691399,\n",
       "        722.32043379,  779.11428427,  978.23215112,  985.9876744 ,\n",
       "        964.98587964, 1125.29978701,  628.14070173,  370.33754198,\n",
       "        742.59293995,  413.80536191, 1015.7121565 ,  698.57049045,\n",
       "        843.9292783 ,  645.0538512 ,  472.7221009 ,  898.56367969,\n",
       "       1126.23288116,  236.21290778,  584.8122777 ,  826.94964557,\n",
       "        807.14428308,  698.0933378 ,  671.84759033,  891.95387188,\n",
       "        692.1852823 ,  758.90271241,  478.05027269,  674.91358196,\n",
       "        783.32241177,  572.46907341,  703.6075793 ,  509.14615886,\n",
       "        185.11469999,  522.88612562,  260.5627528 ,  332.71585855,\n",
       "        676.79185285,  424.56355612,  551.20840055,  648.33889353,\n",
       "        475.00212114,  495.08300862,  578.70378774, 1016.17027587,\n",
       "        571.61573833, 1059.76758699,  736.71667224,  763.27362485,\n",
       "        575.39110486,  731.76390673,  631.132379  ,  339.70760627,\n",
       "        391.44772102,  167.17106576,  546.16902955, 1006.0573597 ,\n",
       "        458.02912631,  326.27754721,  339.09878456,  478.24842501,\n",
       "        670.47074156,  785.57033144, 1006.34735369,  328.08051905,\n",
       "        171.46439701,  353.1830417 ,  541.22051554,  679.25327426,\n",
       "        273.01553456,  763.32672805, 1038.35859818,  848.82686699,\n",
       "        391.70234763,  572.33958223,  425.00622181,  300.68895186,\n",
       "        480.62365799,  599.20198251,  770.25220103,  542.90063409,\n",
       "       1003.81836007,  766.999155  ,  297.77713791,  564.65837331])"
      ]
     },
     "execution_count": 17,
     "metadata": {},
     "output_type": "execute_result"
    }
   ],
   "source": [
    "y_pred"
   ]
  },
  {
   "cell_type": "code",
   "execution_count": 18,
   "id": "9332e396",
   "metadata": {},
   "outputs": [
    {
     "name": "stdout",
     "output_type": "stream",
     "text": [
      "mean_squared_error 7240.358089613687\n",
      "mean_absolute_error 61.67529401141012\n",
      "r2_score 0.9016040060036504\n"
     ]
    }
   ],
   "source": [
    "X = df[['Move Minutes count',\"Step count\"]]\n",
    "y = df[\"Calories (kcal)\"]\n",
    "from sklearn.model_selection import train_test_split\n",
    "X_train,X_test,y_train,y_test = train_test_split(X,y,test_size=0.2,random_state=43)\n",
    "from sklearn.metrics import mean_squared_error\n",
    "from sklearn.metrics import mean_absolute_error\n",
    "from sklearn.metrics import r2_score\n",
    "polynomial_features2= PolynomialFeatures(degree=3)\n",
    "x_poly2 = polynomial_features2.fit_transform(X_test)\n",
    "model2 = LinearRegression()\n",
    "model2.fit(x_poly2, y_test)\n",
    "y_poly_pred2 = model2.predict(x_poly2)\n",
    "mse2 = (mean_squared_error(y_test,y_poly_pred2))\n",
    "rae2 = (mean_absolute_error(y_test,y_poly_pred2))\n",
    "r22 = r2_score(y_test,y_poly_pred2)\n",
    "print(\"mean_squared_error\",mse2)\n",
    "print(\"mean_absolute_error\",rae2)\n",
    "print(\"r2_score\",r22)"
   ]
  },
  {
   "cell_type": "code",
   "execution_count": 19,
   "id": "a96dfb44",
   "metadata": {},
   "outputs": [
    {
     "data": {
      "text/plain": [
       "LinearRegression()"
      ]
     },
     "execution_count": 19,
     "metadata": {},
     "output_type": "execute_result"
    }
   ],
   "source": [
    "from sklearn.preprocessing import PolynomialFeatures \n",
    "poly_regs= PolynomialFeatures(degree= 2) \n",
    "x_poly= poly_regs.fit_transform(X_test) \n",
    "lin_reg_2 =LinearRegression() \n",
    "lin_reg_2.fit(x_poly, y_test) \n"
   ]
  },
  {
   "cell_type": "code",
   "execution_count": 20,
   "id": "d62b1be3",
   "metadata": {},
   "outputs": [
    {
     "name": "stdout",
     "output_type": "stream",
     "text": [
      "mean_squared_error 7474.006032978903\n",
      "mean_absolute_error 62.69004740545265\n",
      "0.8984287456991079\n"
     ]
    }
   ],
   "source": [
    "polynomial_features1 = PolynomialFeatures(degree=2)\n",
    "x_poly1 = polynomial_features1.fit_transform(X_test)\n",
    "model1 = LinearRegression()\n",
    "model1.fit(x_poly1, y_test)\n",
    "y_poly_pred1 = model1.predict(x_poly1)\n",
    "mse1 = (mean_squared_error(y_test,y_poly_pred1))\n",
    "rae1 = (mean_absolute_error(y_test,y_poly_pred1))\n",
    "r21 = r2_score(y_test,y_poly_pred1)\n",
    "print(\"mean_squared_error\",mse1)\n",
    "print(\"mean_absolute_error\",rae1)\n",
    "print(r21)"
   ]
  },
  {
   "cell_type": "code",
   "execution_count": 21,
   "id": "6e98f7f1",
   "metadata": {},
   "outputs": [
    {
     "name": "stdout",
     "output_type": "stream",
     "text": [
      "mean_squared_error 7240.358089613687\n",
      "mean_absolute_error 61.67529401141012\n",
      "r2_score 0.9016040060036504\n"
     ]
    }
   ],
   "source": [
    "polynomial_features2= PolynomialFeatures(degree=3)\n",
    "x_poly2 = polynomial_features2.fit_transform(X_test)\n",
    "model2 = LinearRegression()\n",
    "model2.fit(x_poly2, y_test)\n",
    "y_poly_pred2 = model2.predict(x_poly2)\n",
    "mse2 = (mean_squared_error(y_test,y_poly_pred2))\n",
    "rae2 = (mean_absolute_error(y_test,y_poly_pred2))\n",
    "r22 = r2_score(y_test,y_poly_pred2)\n",
    "print(\"mean_squared_error\",mse2)\n",
    "print(\"mean_absolute_error\",rae2)\n",
    "print(\"r2_score\",r22)"
   ]
  },
  {
   "cell_type": "code",
   "execution_count": 22,
   "id": "d7f9320c",
   "metadata": {},
   "outputs": [
    {
     "name": "stdout",
     "output_type": "stream",
     "text": [
      "mean_squared_error: 255.24254334484053\n",
      "mean_absolute_error 6.021478379527774\n",
      "r2_score 0.9965312704908064\n"
     ]
    }
   ],
   "source": [
    "from sklearn.tree import DecisionTreeRegressor\n",
    "D = DecisionTreeRegressor(max_depth=8)\n",
    "D.fit(X_test,y_test)\n",
    "D_pred = D.predict(X_test)\n",
    "import numpy\n",
    "from sklearn.metrics import mean_squared_error\n",
    "print('mean_squared_error:',mean_squared_error(y_test,D_pred))\n",
    "from sklearn.metrics import mean_absolute_error\n",
    "print(\"mean_absolute_error\",mean_absolute_error(y_test,D_pred))\n",
    "from sklearn.metrics import r2_score\n",
    "print(\"r2_score\",r2_score(y_test,D_pred))\n"
   ]
  },
  {
   "cell_type": "code",
   "execution_count": 23,
   "id": "bc6a6052",
   "metadata": {},
   "outputs": [
    {
     "name": "stdout",
     "output_type": "stream",
     "text": [
      "mean_squared_error: 4302.504055442315\n",
      "mean_absolute_error 47.23418040127498\n",
      "r2_score 0.9415292506297628\n"
     ]
    }
   ],
   "source": [
    "from sklearn.ensemble import RandomForestRegressor\n",
    "R = RandomForestRegressor(n_estimators=100,\n",
    "                              random_state=3,\n",
    "                              max_samples=0.5,\n",
    "                              max_features=0.75,\n",
    "                              max_depth=20)\n",
    "R.fit(X_test,y_test)\n",
    "R_pred = R.predict(X_test)\n",
    "import numpy\n",
    "from sklearn.metrics import mean_squared_error\n",
    "print('mean_squared_error:',mean_squared_error(y_test,R_pred))\n",
    "from sklearn.metrics import mean_absolute_error\n",
    "print(\"mean_absolute_error\",mean_absolute_error(y_test,R_pred))\n",
    "from sklearn.metrics import r2_score\n",
    "print(\"r2_score\",r2_score(y_test,R_pred))\n"
   ]
  },
  {
   "cell_type": "code",
   "execution_count": 24,
   "id": "ba0a60fc",
   "metadata": {},
   "outputs": [
    {
     "data": {
      "text/html": [
       "<div>\n",
       "<style scoped>\n",
       "    .dataframe tbody tr th:only-of-type {\n",
       "        vertical-align: middle;\n",
       "    }\n",
       "\n",
       "    .dataframe tbody tr th {\n",
       "        vertical-align: top;\n",
       "    }\n",
       "\n",
       "    .dataframe thead th {\n",
       "        text-align: right;\n",
       "    }\n",
       "</style>\n",
       "<table border=\"1\" class=\"dataframe\">\n",
       "  <thead>\n",
       "    <tr style=\"text-align: right;\">\n",
       "      <th></th>\n",
       "      <th>Move Minutes count</th>\n",
       "      <th>Calories (kcal)</th>\n",
       "      <th>Step count</th>\n",
       "      <th>Unnamed: 0</th>\n",
       "    </tr>\n",
       "  </thead>\n",
       "  <tbody>\n",
       "    <tr>\n",
       "      <th>0</th>\n",
       "      <td>109</td>\n",
       "      <td>582.216593</td>\n",
       "      <td>7828</td>\n",
       "      <td>04-06-2021</td>\n",
       "    </tr>\n",
       "    <tr>\n",
       "      <th>1</th>\n",
       "      <td>140</td>\n",
       "      <td>664.260324</td>\n",
       "      <td>12064</td>\n",
       "      <td>05-06-2021</td>\n",
       "    </tr>\n",
       "    <tr>\n",
       "      <th>2</th>\n",
       "      <td>226</td>\n",
       "      <td>968.921791</td>\n",
       "      <td>18134</td>\n",
       "      <td>06-06-2021</td>\n",
       "    </tr>\n",
       "    <tr>\n",
       "      <th>3</th>\n",
       "      <td>184</td>\n",
       "      <td>861.420122</td>\n",
       "      <td>15760</td>\n",
       "      <td>07-06-2021</td>\n",
       "    </tr>\n",
       "    <tr>\n",
       "      <th>4</th>\n",
       "      <td>233</td>\n",
       "      <td>1111.783558</td>\n",
       "      <td>19354</td>\n",
       "      <td>08-06-2021</td>\n",
       "    </tr>\n",
       "    <tr>\n",
       "      <th>...</th>\n",
       "      <td>...</td>\n",
       "      <td>...</td>\n",
       "      <td>...</td>\n",
       "      <td>...</td>\n",
       "    </tr>\n",
       "    <tr>\n",
       "      <th>394</th>\n",
       "      <td>100</td>\n",
       "      <td>491.560834</td>\n",
       "      <td>7324</td>\n",
       "      <td>27-09-2022</td>\n",
       "    </tr>\n",
       "    <tr>\n",
       "      <th>395</th>\n",
       "      <td>113</td>\n",
       "      <td>653.291411</td>\n",
       "      <td>8187</td>\n",
       "      <td>28-09-2022</td>\n",
       "    </tr>\n",
       "    <tr>\n",
       "      <th>396</th>\n",
       "      <td>86</td>\n",
       "      <td>444.784868</td>\n",
       "      <td>5982</td>\n",
       "      <td>29-09-2022</td>\n",
       "    </tr>\n",
       "    <tr>\n",
       "      <th>397</th>\n",
       "      <td>139</td>\n",
       "      <td>708.265479</td>\n",
       "      <td>9478</td>\n",
       "      <td>30-09-2022</td>\n",
       "    </tr>\n",
       "    <tr>\n",
       "      <th>398</th>\n",
       "      <td>146</td>\n",
       "      <td>443.351411</td>\n",
       "      <td>9519</td>\n",
       "      <td>01-10-2022</td>\n",
       "    </tr>\n",
       "  </tbody>\n",
       "</table>\n",
       "<p>399 rows × 4 columns</p>\n",
       "</div>"
      ],
      "text/plain": [
       "     Move Minutes count  Calories (kcal)  Step count  Unnamed: 0\n",
       "0                   109       582.216593        7828  04-06-2021\n",
       "1                   140       664.260324       12064  05-06-2021\n",
       "2                   226       968.921791       18134  06-06-2021\n",
       "3                   184       861.420122       15760  07-06-2021\n",
       "4                   233      1111.783558       19354  08-06-2021\n",
       "..                  ...              ...         ...         ...\n",
       "394                 100       491.560834        7324  27-09-2022\n",
       "395                 113       653.291411        8187  28-09-2022\n",
       "396                  86       444.784868        5982  29-09-2022\n",
       "397                 139       708.265479        9478  30-09-2022\n",
       "398                 146       443.351411        9519  01-10-2022\n",
       "\n",
       "[399 rows x 4 columns]"
      ]
     },
     "execution_count": 24,
     "metadata": {},
     "output_type": "execute_result"
    }
   ],
   "source": [
    "df"
   ]
  },
  {
   "cell_type": "code",
   "execution_count": 26,
   "id": "60046e1c",
   "metadata": {},
   "outputs": [
    {
     "data": {
      "text/html": [
       "<div>\n",
       "<style scoped>\n",
       "    .dataframe tbody tr th:only-of-type {\n",
       "        vertical-align: middle;\n",
       "    }\n",
       "\n",
       "    .dataframe tbody tr th {\n",
       "        vertical-align: top;\n",
       "    }\n",
       "\n",
       "    .dataframe thead th {\n",
       "        text-align: right;\n",
       "    }\n",
       "</style>\n",
       "<table border=\"1\" class=\"dataframe\">\n",
       "  <thead>\n",
       "    <tr style=\"text-align: right;\">\n",
       "      <th></th>\n",
       "      <th>Move Minutes count</th>\n",
       "      <th>Calories (kcal)</th>\n",
       "      <th>Step count</th>\n",
       "      <th>Unnamed: 0</th>\n",
       "    </tr>\n",
       "  </thead>\n",
       "  <tbody>\n",
       "    <tr>\n",
       "      <th>0</th>\n",
       "      <td>109</td>\n",
       "      <td>582.216593</td>\n",
       "      <td>7828</td>\n",
       "      <td>04-06-2021</td>\n",
       "    </tr>\n",
       "    <tr>\n",
       "      <th>1</th>\n",
       "      <td>140</td>\n",
       "      <td>664.260324</td>\n",
       "      <td>12064</td>\n",
       "      <td>05-06-2021</td>\n",
       "    </tr>\n",
       "    <tr>\n",
       "      <th>2</th>\n",
       "      <td>226</td>\n",
       "      <td>968.921791</td>\n",
       "      <td>18134</td>\n",
       "      <td>06-06-2021</td>\n",
       "    </tr>\n",
       "    <tr>\n",
       "      <th>3</th>\n",
       "      <td>184</td>\n",
       "      <td>861.420122</td>\n",
       "      <td>15760</td>\n",
       "      <td>07-06-2021</td>\n",
       "    </tr>\n",
       "    <tr>\n",
       "      <th>4</th>\n",
       "      <td>233</td>\n",
       "      <td>1111.783558</td>\n",
       "      <td>19354</td>\n",
       "      <td>08-06-2021</td>\n",
       "    </tr>\n",
       "    <tr>\n",
       "      <th>...</th>\n",
       "      <td>...</td>\n",
       "      <td>...</td>\n",
       "      <td>...</td>\n",
       "      <td>...</td>\n",
       "    </tr>\n",
       "    <tr>\n",
       "      <th>394</th>\n",
       "      <td>100</td>\n",
       "      <td>491.560834</td>\n",
       "      <td>7324</td>\n",
       "      <td>27-09-2022</td>\n",
       "    </tr>\n",
       "    <tr>\n",
       "      <th>395</th>\n",
       "      <td>113</td>\n",
       "      <td>653.291411</td>\n",
       "      <td>8187</td>\n",
       "      <td>28-09-2022</td>\n",
       "    </tr>\n",
       "    <tr>\n",
       "      <th>396</th>\n",
       "      <td>86</td>\n",
       "      <td>444.784868</td>\n",
       "      <td>5982</td>\n",
       "      <td>29-09-2022</td>\n",
       "    </tr>\n",
       "    <tr>\n",
       "      <th>397</th>\n",
       "      <td>139</td>\n",
       "      <td>708.265479</td>\n",
       "      <td>9478</td>\n",
       "      <td>30-09-2022</td>\n",
       "    </tr>\n",
       "    <tr>\n",
       "      <th>398</th>\n",
       "      <td>146</td>\n",
       "      <td>443.351411</td>\n",
       "      <td>9519</td>\n",
       "      <td>01-10-2022</td>\n",
       "    </tr>\n",
       "  </tbody>\n",
       "</table>\n",
       "<p>399 rows × 4 columns</p>\n",
       "</div>"
      ],
      "text/plain": [
       "     Move Minutes count  Calories (kcal)  Step count  Unnamed: 0\n",
       "0                   109       582.216593        7828  04-06-2021\n",
       "1                   140       664.260324       12064  05-06-2021\n",
       "2                   226       968.921791       18134  06-06-2021\n",
       "3                   184       861.420122       15760  07-06-2021\n",
       "4                   233      1111.783558       19354  08-06-2021\n",
       "..                  ...              ...         ...         ...\n",
       "394                 100       491.560834        7324  27-09-2022\n",
       "395                 113       653.291411        8187  28-09-2022\n",
       "396                  86       444.784868        5982  29-09-2022\n",
       "397                 139       708.265479        9478  30-09-2022\n",
       "398                 146       443.351411        9519  01-10-2022\n",
       "\n",
       "[399 rows x 4 columns]"
      ]
     },
     "execution_count": 26,
     "metadata": {},
     "output_type": "execute_result"
    }
   ],
   "source": [
    "df"
   ]
  },
  {
   "cell_type": "code",
   "execution_count": 27,
   "id": "6a783b5e",
   "metadata": {},
   "outputs": [],
   "source": [
    "# saving the dataframe\n",
    "df.to_csv('day.csv')\n"
   ]
  },
  {
   "cell_type": "code",
   "execution_count": 40,
   "id": "574001cd",
   "metadata": {},
   "outputs": [],
   "source": [
    "df2=df[[\"Move Minutes count\"]].value_counts()"
   ]
  },
  {
   "cell_type": "code",
   "execution_count": 41,
   "id": "ebdfe250",
   "metadata": {},
   "outputs": [
    {
     "data": {
      "text/plain": [
       "Move Minutes count\n",
       "204                   8\n",
       "113                   6\n",
       "146                   5\n",
       "117                   5\n",
       "123                   5\n",
       "                     ..\n",
       "118                   1\n",
       "106                   1\n",
       "104                   1\n",
       "98                    1\n",
       "289                   1\n",
       "Length: 193, dtype: int64"
      ]
     },
     "execution_count": 41,
     "metadata": {},
     "output_type": "execute_result"
    }
   ],
   "source": [
    "df2"
   ]
  },
  {
   "cell_type": "code",
   "execution_count": 42,
   "id": "1027eeb3",
   "metadata": {},
   "outputs": [],
   "source": [
    "df2.to_csv('mm.csv')"
   ]
  },
  {
   "cell_type": "code",
   "execution_count": null,
   "id": "5144b86b",
   "metadata": {},
   "outputs": [],
   "source": []
  }
 ],
 "metadata": {
  "kernelspec": {
   "display_name": "Python 3",
   "language": "python",
   "name": "python3"
  },
  "language_info": {
   "codemirror_mode": {
    "name": "ipython",
    "version": 3
   },
   "file_extension": ".py",
   "mimetype": "text/x-python",
   "name": "python",
   "nbconvert_exporter": "python",
   "pygments_lexer": "ipython3",
   "version": "3.8.8"
  }
 },
 "nbformat": 4,
 "nbformat_minor": 5
}
